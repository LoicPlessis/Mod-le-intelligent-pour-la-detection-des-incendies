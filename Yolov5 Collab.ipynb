{
  "nbformat": 4,
  "nbformat_minor": 0,
  "metadata": {
    "colab": {
      "name": "Copie de YOLOv5 Tutorial",
      "provenance": [],
      "collapsed_sections": [],
      "machine_shape": "hm"
    },
    "kernelspec": {
      "name": "python3",
      "display_name": "Python 3"
    },
    "accelerator": "GPU",
    "widgets": {
      "application/vnd.jupyter.widget-state+json": {
        "a5ecf99f204e4ed481ff31d0f7e0850d": {
          "model_module": "@jupyter-widgets/controls",
          "model_name": "HBoxModel",
          "model_module_version": "1.5.0",
          "state": {
            "_dom_classes": [],
            "_model_module": "@jupyter-widgets/controls",
            "_model_module_version": "1.5.0",
            "_model_name": "HBoxModel",
            "_view_count": null,
            "_view_module": "@jupyter-widgets/controls",
            "_view_module_version": "1.5.0",
            "_view_name": "HBoxView",
            "box_style": "",
            "children": [
              "IPY_MODEL_da052201ea3c49d69215978bb9aa3c71",
              "IPY_MODEL_5ee0ad3b388341fc9cd811d6061f009e",
              "IPY_MODEL_2e7b5e48a8ce4a99b80fedb58d8803d2"
            ],
            "layout": "IPY_MODEL_4230da8fb64a416a8993c93ed0bfce0f"
          }
        },
        "da052201ea3c49d69215978bb9aa3c71": {
          "model_module": "@jupyter-widgets/controls",
          "model_name": "HTMLModel",
          "model_module_version": "1.5.0",
          "state": {
            "_dom_classes": [],
            "_model_module": "@jupyter-widgets/controls",
            "_model_module_version": "1.5.0",
            "_model_name": "HTMLModel",
            "_view_count": null,
            "_view_module": "@jupyter-widgets/controls",
            "_view_module_version": "1.5.0",
            "_view_name": "HTMLView",
            "description": "",
            "description_tooltip": null,
            "layout": "IPY_MODEL_b4cdc8423e8c472db25daa50c6d5b1c6",
            "placeholder": "​",
            "style": "IPY_MODEL_c73247c58e344894a52a75b4c07e9ccf",
            "value": "100%"
          }
        },
        "5ee0ad3b388341fc9cd811d6061f009e": {
          "model_module": "@jupyter-widgets/controls",
          "model_name": "FloatProgressModel",
          "model_module_version": "1.5.0",
          "state": {
            "_dom_classes": [],
            "_model_module": "@jupyter-widgets/controls",
            "_model_module_version": "1.5.0",
            "_model_name": "FloatProgressModel",
            "_view_count": null,
            "_view_module": "@jupyter-widgets/controls",
            "_view_module_version": "1.5.0",
            "_view_name": "ProgressView",
            "bar_style": "success",
            "description": "",
            "description_tooltip": null,
            "layout": "IPY_MODEL_b05232e6ffb74a2f988013d7cafc2f2b",
            "max": 818322941,
            "min": 0,
            "orientation": "horizontal",
            "style": "IPY_MODEL_d07ebaa15bbd469498ddf95942407b10",
            "value": 818322941
          }
        },
        "2e7b5e48a8ce4a99b80fedb58d8803d2": {
          "model_module": "@jupyter-widgets/controls",
          "model_name": "HTMLModel",
          "model_module_version": "1.5.0",
          "state": {
            "_dom_classes": [],
            "_model_module": "@jupyter-widgets/controls",
            "_model_module_version": "1.5.0",
            "_model_name": "HTMLModel",
            "_view_count": null,
            "_view_module": "@jupyter-widgets/controls",
            "_view_module_version": "1.5.0",
            "_view_name": "HTMLView",
            "description": "",
            "description_tooltip": null,
            "layout": "IPY_MODEL_b72fab239df04b1e8246afa351be6871",
            "placeholder": "​",
            "style": "IPY_MODEL_95bffa3fee4840cd803cea1a21fd97c2",
            "value": " 780M/780M [00:12&lt;00:00, 64.6MB/s]"
          }
        },
        "4230da8fb64a416a8993c93ed0bfce0f": {
          "model_module": "@jupyter-widgets/base",
          "model_name": "LayoutModel",
          "model_module_version": "1.2.0",
          "state": {
            "_model_module": "@jupyter-widgets/base",
            "_model_module_version": "1.2.0",
            "_model_name": "LayoutModel",
            "_view_count": null,
            "_view_module": "@jupyter-widgets/base",
            "_view_module_version": "1.2.0",
            "_view_name": "LayoutView",
            "align_content": null,
            "align_items": null,
            "align_self": null,
            "border": null,
            "bottom": null,
            "display": null,
            "flex": null,
            "flex_flow": null,
            "grid_area": null,
            "grid_auto_columns": null,
            "grid_auto_flow": null,
            "grid_auto_rows": null,
            "grid_column": null,
            "grid_gap": null,
            "grid_row": null,
            "grid_template_areas": null,
            "grid_template_columns": null,
            "grid_template_rows": null,
            "height": null,
            "justify_content": null,
            "justify_items": null,
            "left": null,
            "margin": null,
            "max_height": null,
            "max_width": null,
            "min_height": null,
            "min_width": null,
            "object_fit": null,
            "object_position": null,
            "order": null,
            "overflow": null,
            "overflow_x": null,
            "overflow_y": null,
            "padding": null,
            "right": null,
            "top": null,
            "visibility": null,
            "width": null
          }
        },
        "b4cdc8423e8c472db25daa50c6d5b1c6": {
          "model_module": "@jupyter-widgets/base",
          "model_name": "LayoutModel",
          "model_module_version": "1.2.0",
          "state": {
            "_model_module": "@jupyter-widgets/base",
            "_model_module_version": "1.2.0",
            "_model_name": "LayoutModel",
            "_view_count": null,
            "_view_module": "@jupyter-widgets/base",
            "_view_module_version": "1.2.0",
            "_view_name": "LayoutView",
            "align_content": null,
            "align_items": null,
            "align_self": null,
            "border": null,
            "bottom": null,
            "display": null,
            "flex": null,
            "flex_flow": null,
            "grid_area": null,
            "grid_auto_columns": null,
            "grid_auto_flow": null,
            "grid_auto_rows": null,
            "grid_column": null,
            "grid_gap": null,
            "grid_row": null,
            "grid_template_areas": null,
            "grid_template_columns": null,
            "grid_template_rows": null,
            "height": null,
            "justify_content": null,
            "justify_items": null,
            "left": null,
            "margin": null,
            "max_height": null,
            "max_width": null,
            "min_height": null,
            "min_width": null,
            "object_fit": null,
            "object_position": null,
            "order": null,
            "overflow": null,
            "overflow_x": null,
            "overflow_y": null,
            "padding": null,
            "right": null,
            "top": null,
            "visibility": null,
            "width": null
          }
        },
        "c73247c58e344894a52a75b4c07e9ccf": {
          "model_module": "@jupyter-widgets/controls",
          "model_name": "DescriptionStyleModel",
          "model_module_version": "1.5.0",
          "state": {
            "_model_module": "@jupyter-widgets/controls",
            "_model_module_version": "1.5.0",
            "_model_name": "DescriptionStyleModel",
            "_view_count": null,
            "_view_module": "@jupyter-widgets/base",
            "_view_module_version": "1.2.0",
            "_view_name": "StyleView",
            "description_width": ""
          }
        },
        "b05232e6ffb74a2f988013d7cafc2f2b": {
          "model_module": "@jupyter-widgets/base",
          "model_name": "LayoutModel",
          "model_module_version": "1.2.0",
          "state": {
            "_model_module": "@jupyter-widgets/base",
            "_model_module_version": "1.2.0",
            "_model_name": "LayoutModel",
            "_view_count": null,
            "_view_module": "@jupyter-widgets/base",
            "_view_module_version": "1.2.0",
            "_view_name": "LayoutView",
            "align_content": null,
            "align_items": null,
            "align_self": null,
            "border": null,
            "bottom": null,
            "display": null,
            "flex": null,
            "flex_flow": null,
            "grid_area": null,
            "grid_auto_columns": null,
            "grid_auto_flow": null,
            "grid_auto_rows": null,
            "grid_column": null,
            "grid_gap": null,
            "grid_row": null,
            "grid_template_areas": null,
            "grid_template_columns": null,
            "grid_template_rows": null,
            "height": null,
            "justify_content": null,
            "justify_items": null,
            "left": null,
            "margin": null,
            "max_height": null,
            "max_width": null,
            "min_height": null,
            "min_width": null,
            "object_fit": null,
            "object_position": null,
            "order": null,
            "overflow": null,
            "overflow_x": null,
            "overflow_y": null,
            "padding": null,
            "right": null,
            "top": null,
            "visibility": null,
            "width": null
          }
        },
        "d07ebaa15bbd469498ddf95942407b10": {
          "model_module": "@jupyter-widgets/controls",
          "model_name": "ProgressStyleModel",
          "model_module_version": "1.5.0",
          "state": {
            "_model_module": "@jupyter-widgets/controls",
            "_model_module_version": "1.5.0",
            "_model_name": "ProgressStyleModel",
            "_view_count": null,
            "_view_module": "@jupyter-widgets/base",
            "_view_module_version": "1.2.0",
            "_view_name": "StyleView",
            "bar_color": null,
            "description_width": ""
          }
        },
        "b72fab239df04b1e8246afa351be6871": {
          "model_module": "@jupyter-widgets/base",
          "model_name": "LayoutModel",
          "model_module_version": "1.2.0",
          "state": {
            "_model_module": "@jupyter-widgets/base",
            "_model_module_version": "1.2.0",
            "_model_name": "LayoutModel",
            "_view_count": null,
            "_view_module": "@jupyter-widgets/base",
            "_view_module_version": "1.2.0",
            "_view_name": "LayoutView",
            "align_content": null,
            "align_items": null,
            "align_self": null,
            "border": null,
            "bottom": null,
            "display": null,
            "flex": null,
            "flex_flow": null,
            "grid_area": null,
            "grid_auto_columns": null,
            "grid_auto_flow": null,
            "grid_auto_rows": null,
            "grid_column": null,
            "grid_gap": null,
            "grid_row": null,
            "grid_template_areas": null,
            "grid_template_columns": null,
            "grid_template_rows": null,
            "height": null,
            "justify_content": null,
            "justify_items": null,
            "left": null,
            "margin": null,
            "max_height": null,
            "max_width": null,
            "min_height": null,
            "min_width": null,
            "object_fit": null,
            "object_position": null,
            "order": null,
            "overflow": null,
            "overflow_x": null,
            "overflow_y": null,
            "padding": null,
            "right": null,
            "top": null,
            "visibility": null,
            "width": null
          }
        },
        "95bffa3fee4840cd803cea1a21fd97c2": {
          "model_module": "@jupyter-widgets/controls",
          "model_name": "DescriptionStyleModel",
          "model_module_version": "1.5.0",
          "state": {
            "_model_module": "@jupyter-widgets/controls",
            "_model_module_version": "1.5.0",
            "_model_name": "DescriptionStyleModel",
            "_view_count": null,
            "_view_module": "@jupyter-widgets/base",
            "_view_module_version": "1.2.0",
            "_view_name": "StyleView",
            "description_width": ""
          }
        }
      }
    }
  },
  "cells": [
    {
      "cell_type": "markdown",
      "metadata": {
        "id": "t6MPjfT5NrKQ"
      },
      "source": [
        "<a align=\"left\" href=\"https://ultralytics.com/yolov5\" target=\"_blank\">\n",
        "<img width=\"1024\", src=\"https://user-images.githubusercontent.com/26833433/125273437-35b3fc00-e30d-11eb-9079-46f313325424.png\"></a>\n",
        "\n",
        "This is the **official YOLOv5 🚀 notebook** by **Ultralytics**, and is freely available for redistribution under the [GPL-3.0 license](https://choosealicense.com/licenses/gpl-3.0/). \n",
        "For more information please visit https://github.com/ultralytics/yolov5 and https://ultralytics.com. Thank you!"
      ]
    },
    {
      "cell_type": "markdown",
      "metadata": {
        "id": "7mGmQbAO5pQb"
      },
      "source": [
        "# Setup\n",
        "\n",
        "Clone repo, install dependencies and check PyTorch and GPU."
      ]
    },
    {
      "cell_type": "code",
      "source": [
        "from google.colab import drive\n",
        "drive.mount('/content/gdrive')"
      ],
      "metadata": {
        "colab": {
          "base_uri": "https://localhost:8080/"
        },
        "id": "O0ysONS7IHup",
        "outputId": "3ba54990-b6f1-4195-aebe-24c15360b7a0"
      },
      "execution_count": null,
      "outputs": [
        {
          "output_type": "stream",
          "name": "stdout",
          "text": [
            "Mounted at /content/gdrive\n"
          ]
        }
      ]
    },
    {
      "cell_type": "code",
      "source": [
        "cd /content/gdrive/MyDrive/Transfer_Learning_Yolo"
      ],
      "metadata": {
        "colab": {
          "base_uri": "https://localhost:8080/"
        },
        "id": "X6umMxH3Il3v",
        "outputId": "b815f035-0606-48a7-e944-26669dccbccd"
      },
      "execution_count": null,
      "outputs": [
        {
          "output_type": "stream",
          "name": "stdout",
          "text": [
            "/content/gdrive/MyDrive/Transfer_Learning_Yolo\n"
          ]
        }
      ]
    },
    {
      "cell_type": "code",
      "source": [
        "ls"
      ],
      "metadata": {
        "colab": {
          "base_uri": "https://localhost:8080/"
        },
        "id": "yxggtMOhI4En",
        "outputId": "71e07617-802a-4c42-d535-3968718297cd"
      },
      "execution_count": null,
      "outputs": [
        {
          "output_type": "stream",
          "name": "stdout",
          "text": [
            "'Copie de YOLOv5 Tutorial'   \u001b[0m\u001b[01;34mdatasets\u001b[0m/   \u001b[01;34mtrain_data\u001b[0m/   video.mp4   \u001b[01;34myolov5\u001b[0m/\n"
          ]
        }
      ]
    },
    {
      "cell_type": "code",
      "metadata": {
        "id": "wbvMlHd_QwMG",
        "colab": {
          "base_uri": "https://localhost:8080/"
        },
        "outputId": "1c6005d1-1771-4a05-ac93-5165bf516d50"
      },
      "source": [
        "!git clone https://github.com/ultralytics/yolov5  # clone\n",
        "%cd yolov5\n",
        "%pip install -qr requirements.txt  # install\n",
        "\n",
        "import torch\n",
        "import utils\n",
        "display = utils.notebook_init()  # checks"
      ],
      "execution_count": null,
      "outputs": [
        {
          "output_type": "stream",
          "name": "stderr",
          "text": [
            "YOLOv5 🚀 v6.1-237-g50b886d Python-3.7.13 torch-1.11.0+cu113 CUDA:0 (Tesla T4, 15110MiB)\n"
          ]
        },
        {
          "output_type": "stream",
          "name": "stdout",
          "text": [
            "Setup complete ✅ (2 CPUs, 12.7 GB RAM, 38.7/78.2 GB disk)\n"
          ]
        }
      ]
    },
    {
      "cell_type": "code",
      "source": [
        "ls"
      ],
      "metadata": {
        "colab": {
          "base_uri": "https://localhost:8080/"
        },
        "id": "KTfzuRphJdw0",
        "outputId": "24226704-e670-4245-8264-320140e38968"
      },
      "execution_count": null,
      "outputs": [
        {
          "output_type": "stream",
          "name": "stdout",
          "text": [
            "CONTRIBUTING.md  export.py   \u001b[0m\u001b[01;34mmodels\u001b[0m/           setup.cfg       \u001b[01;34mutils\u001b[0m/\n",
            "\u001b[01;34mdata\u001b[0m/            hubconf.py  README.md         train.py        val.py\n",
            "detect.py        LICENSE     requirements.txt  tutorial.ipynb\n"
          ]
        }
      ]
    },
    {
      "cell_type": "markdown",
      "metadata": {
        "id": "4JnkELT0cIJg"
      },
      "source": [
        "# 1. Inference\n",
        "\n",
        "`detect.py` runs YOLOv5 inference on a variety of sources, downloading models automatically from the [latest YOLOv5 release](https://github.com/ultralytics/yolov5/releases), and saving results to `runs/detect`. Example inference sources are:\n",
        "\n",
        "```shell\n",
        "python detect.py --source 0  # webcam\n",
        "                          img.jpg  # image \n",
        "                          vid.mp4  # video\n",
        "                          path/  # directory\n",
        "                          path/*.jpg  # glob\n",
        "                          'https://youtu.be/Zgi9g1ksQHc'  # YouTube\n",
        "                          'rtsp://example.com/media.mp4'  # RTSP, RTMP, HTTP stream\n",
        "```"
      ]
    },
    {
      "cell_type": "code",
      "metadata": {
        "id": "zR9ZbuQCH7FX",
        "colab": {
          "base_uri": "https://localhost:8080/"
        },
        "outputId": "a5abda8a-0d07-4f86-963b-72a001ef50c9"
      },
      "source": [
        "!python detect.py --weights /content/gdrive/MyDrive/Transfer_Learning_Yolo/yolov5/runs/train/exp7/weights/best.pt --img 640 --conf 0.25 --source /content/gdrive/MyDrive/Transfer_Learning_Yolo/video.mp4\n",
        "#display.Image(filename='runs/detect/exp/zidane.jpg', width=600)"
      ],
      "execution_count": null,
      "outputs": [
        {
          "output_type": "stream",
          "name": "stdout",
          "text": [
            "\u001b[34m\u001b[1mdetect: \u001b[0mweights=['/content/gdrive/MyDrive/Transfer_Learning_Yolo/yolov5/runs/train/exp7/weights/best.pt'], source=/content/gdrive/MyDrive/Transfer_Learning_Yolo/video.mp4, data=data/coco128.yaml, imgsz=[640, 640], conf_thres=0.25, iou_thres=0.45, max_det=1000, device=, view_img=False, save_txt=False, save_conf=False, save_crop=False, nosave=False, classes=None, agnostic_nms=False, augment=False, visualize=False, update=False, project=runs/detect, name=exp, exist_ok=False, line_thickness=3, hide_labels=False, hide_conf=False, half=False, dnn=False\n",
            "YOLOv5 🚀 v6.1-237-g50b886d Python-3.7.13 torch-1.11.0+cu113 CUDA:0 (Tesla T4, 15110MiB)\n",
            "\n",
            "Fusing layers... \n",
            "Model summary: 213 layers, 7012822 parameters, 0 gradients, 15.8 GFLOPs\n",
            "video 1/1 (1/220) /content/gdrive/MyDrive/Transfer_Learning_Yolo/video.mp4: 384x640 Done. (0.015s)\n",
            "video 1/1 (2/220) /content/gdrive/MyDrive/Transfer_Learning_Yolo/video.mp4: 384x640 Done. (0.015s)\n",
            "video 1/1 (3/220) /content/gdrive/MyDrive/Transfer_Learning_Yolo/video.mp4: 384x640 1 incendie, Done. (0.011s)\n",
            "video 1/1 (4/220) /content/gdrive/MyDrive/Transfer_Learning_Yolo/video.mp4: 384x640 1 incendie, Done. (0.011s)\n",
            "video 1/1 (5/220) /content/gdrive/MyDrive/Transfer_Learning_Yolo/video.mp4: 384x640 1 incendie, Done. (0.010s)\n",
            "video 1/1 (6/220) /content/gdrive/MyDrive/Transfer_Learning_Yolo/video.mp4: 384x640 1 incendie, Done. (0.016s)\n",
            "video 1/1 (7/220) /content/gdrive/MyDrive/Transfer_Learning_Yolo/video.mp4: 384x640 1 incendie, Done. (0.011s)\n",
            "video 1/1 (8/220) /content/gdrive/MyDrive/Transfer_Learning_Yolo/video.mp4: 384x640 1 incendie, Done. (0.011s)\n",
            "video 1/1 (9/220) /content/gdrive/MyDrive/Transfer_Learning_Yolo/video.mp4: 384x640 1 incendie, Done. (0.011s)\n",
            "video 1/1 (10/220) /content/gdrive/MyDrive/Transfer_Learning_Yolo/video.mp4: 384x640 1 incendie, Done. (0.013s)\n",
            "video 1/1 (11/220) /content/gdrive/MyDrive/Transfer_Learning_Yolo/video.mp4: 384x640 1 incendie, Done. (0.010s)\n",
            "video 1/1 (12/220) /content/gdrive/MyDrive/Transfer_Learning_Yolo/video.mp4: 384x640 1 incendie, Done. (0.011s)\n",
            "video 1/1 (13/220) /content/gdrive/MyDrive/Transfer_Learning_Yolo/video.mp4: 384x640 1 incendie, Done. (0.011s)\n",
            "video 1/1 (14/220) /content/gdrive/MyDrive/Transfer_Learning_Yolo/video.mp4: 384x640 1 incendie, Done. (0.011s)\n",
            "video 1/1 (15/220) /content/gdrive/MyDrive/Transfer_Learning_Yolo/video.mp4: 384x640 1 incendie, Done. (0.011s)\n",
            "video 1/1 (16/220) /content/gdrive/MyDrive/Transfer_Learning_Yolo/video.mp4: 384x640 1 incendie, Done. (0.011s)\n",
            "video 1/1 (17/220) /content/gdrive/MyDrive/Transfer_Learning_Yolo/video.mp4: 384x640 Done. (0.010s)\n",
            "video 1/1 (18/220) /content/gdrive/MyDrive/Transfer_Learning_Yolo/video.mp4: 384x640 Done. (0.012s)\n",
            "video 1/1 (19/220) /content/gdrive/MyDrive/Transfer_Learning_Yolo/video.mp4: 384x640 1 incendie, Done. (0.011s)\n",
            "video 1/1 (20/220) /content/gdrive/MyDrive/Transfer_Learning_Yolo/video.mp4: 384x640 Done. (0.010s)\n",
            "video 1/1 (21/220) /content/gdrive/MyDrive/Transfer_Learning_Yolo/video.mp4: 384x640 Done. (0.011s)\n",
            "video 1/1 (22/220) /content/gdrive/MyDrive/Transfer_Learning_Yolo/video.mp4: 384x640 Done. (0.012s)\n",
            "video 1/1 (23/220) /content/gdrive/MyDrive/Transfer_Learning_Yolo/video.mp4: 384x640 Done. (0.010s)\n",
            "video 1/1 (24/220) /content/gdrive/MyDrive/Transfer_Learning_Yolo/video.mp4: 384x640 Done. (0.010s)\n",
            "video 1/1 (25/220) /content/gdrive/MyDrive/Transfer_Learning_Yolo/video.mp4: 384x640 Done. (0.010s)\n",
            "video 1/1 (26/220) /content/gdrive/MyDrive/Transfer_Learning_Yolo/video.mp4: 384x640 Done. (0.010s)\n",
            "video 1/1 (27/220) /content/gdrive/MyDrive/Transfer_Learning_Yolo/video.mp4: 384x640 1 incendie, Done. (0.010s)\n",
            "video 1/1 (28/220) /content/gdrive/MyDrive/Transfer_Learning_Yolo/video.mp4: 384x640 1 incendie, Done. (0.011s)\n",
            "video 1/1 (29/220) /content/gdrive/MyDrive/Transfer_Learning_Yolo/video.mp4: 384x640 1 incendie, Done. (0.010s)\n",
            "video 1/1 (30/220) /content/gdrive/MyDrive/Transfer_Learning_Yolo/video.mp4: 384x640 1 incendie, Done. (0.010s)\n",
            "video 1/1 (31/220) /content/gdrive/MyDrive/Transfer_Learning_Yolo/video.mp4: 384x640 1 incendie, Done. (0.010s)\n",
            "video 1/1 (32/220) /content/gdrive/MyDrive/Transfer_Learning_Yolo/video.mp4: 384x640 1 incendie, Done. (0.011s)\n",
            "video 1/1 (33/220) /content/gdrive/MyDrive/Transfer_Learning_Yolo/video.mp4: 384x640 1 incendie, Done. (0.011s)\n",
            "video 1/1 (34/220) /content/gdrive/MyDrive/Transfer_Learning_Yolo/video.mp4: 384x640 1 incendie, Done. (0.010s)\n",
            "video 1/1 (35/220) /content/gdrive/MyDrive/Transfer_Learning_Yolo/video.mp4: 384x640 1 incendie, Done. (0.011s)\n",
            "video 1/1 (36/220) /content/gdrive/MyDrive/Transfer_Learning_Yolo/video.mp4: 384x640 1 incendie, Done. (0.011s)\n",
            "video 1/1 (37/220) /content/gdrive/MyDrive/Transfer_Learning_Yolo/video.mp4: 384x640 1 incendie, Done. (0.011s)\n",
            "video 1/1 (38/220) /content/gdrive/MyDrive/Transfer_Learning_Yolo/video.mp4: 384x640 1 incendie, Done. (0.010s)\n",
            "video 1/1 (39/220) /content/gdrive/MyDrive/Transfer_Learning_Yolo/video.mp4: 384x640 1 incendie, Done. (0.011s)\n",
            "video 1/1 (40/220) /content/gdrive/MyDrive/Transfer_Learning_Yolo/video.mp4: 384x640 Done. (0.010s)\n",
            "video 1/1 (41/220) /content/gdrive/MyDrive/Transfer_Learning_Yolo/video.mp4: 384x640 Done. (0.010s)\n",
            "video 1/1 (42/220) /content/gdrive/MyDrive/Transfer_Learning_Yolo/video.mp4: 384x640 1 incendie, Done. (0.010s)\n",
            "video 1/1 (43/220) /content/gdrive/MyDrive/Transfer_Learning_Yolo/video.mp4: 384x640 1 incendie, Done. (0.010s)\n",
            "video 1/1 (44/220) /content/gdrive/MyDrive/Transfer_Learning_Yolo/video.mp4: 384x640 1 incendie, Done. (0.011s)\n",
            "video 1/1 (45/220) /content/gdrive/MyDrive/Transfer_Learning_Yolo/video.mp4: 384x640 Done. (0.015s)\n",
            "video 1/1 (46/220) /content/gdrive/MyDrive/Transfer_Learning_Yolo/video.mp4: 384x640 Done. (0.011s)\n",
            "video 1/1 (47/220) /content/gdrive/MyDrive/Transfer_Learning_Yolo/video.mp4: 384x640 Done. (0.011s)\n",
            "video 1/1 (48/220) /content/gdrive/MyDrive/Transfer_Learning_Yolo/video.mp4: 384x640 Done. (0.011s)\n",
            "video 1/1 (49/220) /content/gdrive/MyDrive/Transfer_Learning_Yolo/video.mp4: 384x640 Done. (0.018s)\n",
            "video 1/1 (50/220) /content/gdrive/MyDrive/Transfer_Learning_Yolo/video.mp4: 384x640 Done. (0.010s)\n",
            "video 1/1 (51/220) /content/gdrive/MyDrive/Transfer_Learning_Yolo/video.mp4: 384x640 Done. (0.012s)\n",
            "video 1/1 (52/220) /content/gdrive/MyDrive/Transfer_Learning_Yolo/video.mp4: 384x640 Done. (0.010s)\n",
            "video 1/1 (53/220) /content/gdrive/MyDrive/Transfer_Learning_Yolo/video.mp4: 384x640 Done. (0.010s)\n",
            "video 1/1 (54/220) /content/gdrive/MyDrive/Transfer_Learning_Yolo/video.mp4: 384x640 1 incendie, Done. (0.011s)\n",
            "video 1/1 (55/220) /content/gdrive/MyDrive/Transfer_Learning_Yolo/video.mp4: 384x640 1 incendie, Done. (0.010s)\n",
            "video 1/1 (56/220) /content/gdrive/MyDrive/Transfer_Learning_Yolo/video.mp4: 384x640 1 incendie, Done. (0.010s)\n",
            "video 1/1 (57/220) /content/gdrive/MyDrive/Transfer_Learning_Yolo/video.mp4: 384x640 1 incendie, Done. (0.014s)\n",
            "video 1/1 (58/220) /content/gdrive/MyDrive/Transfer_Learning_Yolo/video.mp4: 384x640 Done. (0.011s)\n",
            "video 1/1 (59/220) /content/gdrive/MyDrive/Transfer_Learning_Yolo/video.mp4: 384x640 Done. (0.010s)\n",
            "video 1/1 (60/220) /content/gdrive/MyDrive/Transfer_Learning_Yolo/video.mp4: 384x640 Done. (0.010s)\n",
            "video 1/1 (61/220) /content/gdrive/MyDrive/Transfer_Learning_Yolo/video.mp4: 384x640 Done. (0.010s)\n",
            "video 1/1 (62/220) /content/gdrive/MyDrive/Transfer_Learning_Yolo/video.mp4: 384x640 1 incendie, Done. (0.010s)\n",
            "video 1/1 (63/220) /content/gdrive/MyDrive/Transfer_Learning_Yolo/video.mp4: 384x640 1 incendie, Done. (0.010s)\n",
            "video 1/1 (64/220) /content/gdrive/MyDrive/Transfer_Learning_Yolo/video.mp4: 384x640 Done. (0.010s)\n",
            "video 1/1 (65/220) /content/gdrive/MyDrive/Transfer_Learning_Yolo/video.mp4: 384x640 Done. (0.010s)\n",
            "video 1/1 (66/220) /content/gdrive/MyDrive/Transfer_Learning_Yolo/video.mp4: 384x640 1 incendie, Done. (0.011s)\n",
            "video 1/1 (67/220) /content/gdrive/MyDrive/Transfer_Learning_Yolo/video.mp4: 384x640 1 incendie, Done. (0.010s)\n",
            "video 1/1 (68/220) /content/gdrive/MyDrive/Transfer_Learning_Yolo/video.mp4: 384x640 1 incendie, Done. (0.010s)\n",
            "video 1/1 (69/220) /content/gdrive/MyDrive/Transfer_Learning_Yolo/video.mp4: 384x640 1 incendie, Done. (0.011s)\n",
            "video 1/1 (70/220) /content/gdrive/MyDrive/Transfer_Learning_Yolo/video.mp4: 384x640 1 incendie, Done. (0.010s)\n",
            "video 1/1 (71/220) /content/gdrive/MyDrive/Transfer_Learning_Yolo/video.mp4: 384x640 1 incendie, Done. (0.011s)\n",
            "video 1/1 (72/220) /content/gdrive/MyDrive/Transfer_Learning_Yolo/video.mp4: 384x640 1 incendie, Done. (0.011s)\n",
            "video 1/1 (73/220) /content/gdrive/MyDrive/Transfer_Learning_Yolo/video.mp4: 384x640 2 incendies, Done. (0.010s)\n",
            "video 1/1 (74/220) /content/gdrive/MyDrive/Transfer_Learning_Yolo/video.mp4: 384x640 2 incendies, Done. (0.010s)\n",
            "video 1/1 (75/220) /content/gdrive/MyDrive/Transfer_Learning_Yolo/video.mp4: 384x640 2 incendies, Done. (0.011s)\n",
            "video 1/1 (76/220) /content/gdrive/MyDrive/Transfer_Learning_Yolo/video.mp4: 384x640 2 incendies, Done. (0.010s)\n",
            "video 1/1 (77/220) /content/gdrive/MyDrive/Transfer_Learning_Yolo/video.mp4: 384x640 2 incendies, Done. (0.010s)\n",
            "video 1/1 (78/220) /content/gdrive/MyDrive/Transfer_Learning_Yolo/video.mp4: 384x640 2 incendies, Done. (0.010s)\n",
            "video 1/1 (79/220) /content/gdrive/MyDrive/Transfer_Learning_Yolo/video.mp4: 384x640 2 incendies, Done. (0.011s)\n",
            "video 1/1 (80/220) /content/gdrive/MyDrive/Transfer_Learning_Yolo/video.mp4: 384x640 2 incendies, Done. (0.011s)\n",
            "video 1/1 (81/220) /content/gdrive/MyDrive/Transfer_Learning_Yolo/video.mp4: 384x640 2 incendies, Done. (0.010s)\n",
            "video 1/1 (82/220) /content/gdrive/MyDrive/Transfer_Learning_Yolo/video.mp4: 384x640 2 incendies, Done. (0.013s)\n",
            "video 1/1 (83/220) /content/gdrive/MyDrive/Transfer_Learning_Yolo/video.mp4: 384x640 2 incendies, Done. (0.013s)\n",
            "video 1/1 (84/220) /content/gdrive/MyDrive/Transfer_Learning_Yolo/video.mp4: 384x640 2 incendies, Done. (0.011s)\n",
            "video 1/1 (85/220) /content/gdrive/MyDrive/Transfer_Learning_Yolo/video.mp4: 384x640 2 incendies, Done. (0.010s)\n",
            "video 1/1 (86/220) /content/gdrive/MyDrive/Transfer_Learning_Yolo/video.mp4: 384x640 2 incendies, Done. (0.011s)\n",
            "video 1/1 (87/220) /content/gdrive/MyDrive/Transfer_Learning_Yolo/video.mp4: 384x640 2 incendies, Done. (0.011s)\n",
            "video 1/1 (88/220) /content/gdrive/MyDrive/Transfer_Learning_Yolo/video.mp4: 384x640 2 incendies, Done. (0.010s)\n",
            "video 1/1 (89/220) /content/gdrive/MyDrive/Transfer_Learning_Yolo/video.mp4: 384x640 2 incendies, Done. (0.010s)\n",
            "video 1/1 (90/220) /content/gdrive/MyDrive/Transfer_Learning_Yolo/video.mp4: 384x640 2 incendies, Done. (0.010s)\n",
            "video 1/1 (91/220) /content/gdrive/MyDrive/Transfer_Learning_Yolo/video.mp4: 384x640 2 incendies, Done. (0.010s)\n",
            "video 1/1 (92/220) /content/gdrive/MyDrive/Transfer_Learning_Yolo/video.mp4: 384x640 2 incendies, Done. (0.011s)\n",
            "video 1/1 (93/220) /content/gdrive/MyDrive/Transfer_Learning_Yolo/video.mp4: 384x640 2 incendies, Done. (0.014s)\n",
            "video 1/1 (94/220) /content/gdrive/MyDrive/Transfer_Learning_Yolo/video.mp4: 384x640 2 incendies, Done. (0.010s)\n",
            "video 1/1 (95/220) /content/gdrive/MyDrive/Transfer_Learning_Yolo/video.mp4: 384x640 Done. (0.010s)\n",
            "video 1/1 (96/220) /content/gdrive/MyDrive/Transfer_Learning_Yolo/video.mp4: 384x640 2 incendies, Done. (0.011s)\n",
            "video 1/1 (97/220) /content/gdrive/MyDrive/Transfer_Learning_Yolo/video.mp4: 384x640 1 incendie, Done. (0.011s)\n",
            "video 1/1 (98/220) /content/gdrive/MyDrive/Transfer_Learning_Yolo/video.mp4: 384x640 1 incendie, Done. (0.011s)\n",
            "video 1/1 (99/220) /content/gdrive/MyDrive/Transfer_Learning_Yolo/video.mp4: 384x640 Done. (0.010s)\n",
            "video 1/1 (100/220) /content/gdrive/MyDrive/Transfer_Learning_Yolo/video.mp4: 384x640 Done. (0.011s)\n",
            "video 1/1 (101/220) /content/gdrive/MyDrive/Transfer_Learning_Yolo/video.mp4: 384x640 1 incendie, Done. (0.010s)\n",
            "video 1/1 (102/220) /content/gdrive/MyDrive/Transfer_Learning_Yolo/video.mp4: 384x640 1 incendie, Done. (0.010s)\n",
            "video 1/1 (103/220) /content/gdrive/MyDrive/Transfer_Learning_Yolo/video.mp4: 384x640 1 incendie, Done. (0.010s)\n",
            "video 1/1 (104/220) /content/gdrive/MyDrive/Transfer_Learning_Yolo/video.mp4: 384x640 1 incendie, Done. (0.011s)\n",
            "video 1/1 (105/220) /content/gdrive/MyDrive/Transfer_Learning_Yolo/video.mp4: 384x640 1 incendie, Done. (0.010s)\n",
            "video 1/1 (106/220) /content/gdrive/MyDrive/Transfer_Learning_Yolo/video.mp4: 384x640 1 incendie, Done. (0.010s)\n",
            "video 1/1 (107/220) /content/gdrive/MyDrive/Transfer_Learning_Yolo/video.mp4: 384x640 1 incendie, Done. (0.011s)\n",
            "video 1/1 (108/220) /content/gdrive/MyDrive/Transfer_Learning_Yolo/video.mp4: 384x640 Done. (0.011s)\n",
            "video 1/1 (109/220) /content/gdrive/MyDrive/Transfer_Learning_Yolo/video.mp4: 384x640 1 incendie, Done. (0.013s)\n",
            "video 1/1 (110/220) /content/gdrive/MyDrive/Transfer_Learning_Yolo/video.mp4: 384x640 1 incendie, Done. (0.011s)\n",
            "video 1/1 (111/220) /content/gdrive/MyDrive/Transfer_Learning_Yolo/video.mp4: 384x640 1 incendie, Done. (0.010s)\n",
            "video 1/1 (112/220) /content/gdrive/MyDrive/Transfer_Learning_Yolo/video.mp4: 384x640 1 incendie, Done. (0.010s)\n",
            "video 1/1 (113/220) /content/gdrive/MyDrive/Transfer_Learning_Yolo/video.mp4: 384x640 1 incendie, Done. (0.010s)\n",
            "video 1/1 (114/220) /content/gdrive/MyDrive/Transfer_Learning_Yolo/video.mp4: 384x640 1 incendie, Done. (0.010s)\n",
            "video 1/1 (115/220) /content/gdrive/MyDrive/Transfer_Learning_Yolo/video.mp4: 384x640 1 incendie, Done. (0.010s)\n",
            "video 1/1 (116/220) /content/gdrive/MyDrive/Transfer_Learning_Yolo/video.mp4: 384x640 1 incendie, Done. (0.011s)\n",
            "video 1/1 (117/220) /content/gdrive/MyDrive/Transfer_Learning_Yolo/video.mp4: 384x640 1 incendie, Done. (0.010s)\n",
            "video 1/1 (118/220) /content/gdrive/MyDrive/Transfer_Learning_Yolo/video.mp4: 384x640 1 incendie, Done. (0.011s)\n",
            "video 1/1 (119/220) /content/gdrive/MyDrive/Transfer_Learning_Yolo/video.mp4: 384x640 1 incendie, Done. (0.011s)\n",
            "video 1/1 (120/220) /content/gdrive/MyDrive/Transfer_Learning_Yolo/video.mp4: 384x640 1 incendie, Done. (0.011s)\n",
            "video 1/1 (121/220) /content/gdrive/MyDrive/Transfer_Learning_Yolo/video.mp4: 384x640 1 incendie, Done. (0.011s)\n",
            "video 1/1 (122/220) /content/gdrive/MyDrive/Transfer_Learning_Yolo/video.mp4: 384x640 1 incendie, Done. (0.012s)\n",
            "video 1/1 (123/220) /content/gdrive/MyDrive/Transfer_Learning_Yolo/video.mp4: 384x640 1 incendie, Done. (0.011s)\n",
            "video 1/1 (124/220) /content/gdrive/MyDrive/Transfer_Learning_Yolo/video.mp4: 384x640 1 incendie, Done. (0.010s)\n",
            "video 1/1 (125/220) /content/gdrive/MyDrive/Transfer_Learning_Yolo/video.mp4: 384x640 1 incendie, Done. (0.011s)\n",
            "video 1/1 (126/220) /content/gdrive/MyDrive/Transfer_Learning_Yolo/video.mp4: 384x640 1 incendie, Done. (0.010s)\n",
            "video 1/1 (127/220) /content/gdrive/MyDrive/Transfer_Learning_Yolo/video.mp4: 384x640 1 incendie, Done. (0.010s)\n",
            "video 1/1 (128/220) /content/gdrive/MyDrive/Transfer_Learning_Yolo/video.mp4: 384x640 1 incendie, Done. (0.011s)\n",
            "video 1/1 (129/220) /content/gdrive/MyDrive/Transfer_Learning_Yolo/video.mp4: 384x640 1 incendie, Done. (0.010s)\n",
            "video 1/1 (130/220) /content/gdrive/MyDrive/Transfer_Learning_Yolo/video.mp4: 384x640 1 incendie, Done. (0.011s)\n",
            "video 1/1 (131/220) /content/gdrive/MyDrive/Transfer_Learning_Yolo/video.mp4: 384x640 1 incendie, Done. (0.012s)\n",
            "video 1/1 (132/220) /content/gdrive/MyDrive/Transfer_Learning_Yolo/video.mp4: 384x640 1 incendie, Done. (0.011s)\n",
            "video 1/1 (133/220) /content/gdrive/MyDrive/Transfer_Learning_Yolo/video.mp4: 384x640 1 incendie, Done. (0.012s)\n",
            "video 1/1 (134/220) /content/gdrive/MyDrive/Transfer_Learning_Yolo/video.mp4: 384x640 Done. (0.014s)\n",
            "video 1/1 (135/220) /content/gdrive/MyDrive/Transfer_Learning_Yolo/video.mp4: 384x640 Done. (0.011s)\n",
            "video 1/1 (136/220) /content/gdrive/MyDrive/Transfer_Learning_Yolo/video.mp4: 384x640 Done. (0.012s)\n",
            "video 1/1 (137/220) /content/gdrive/MyDrive/Transfer_Learning_Yolo/video.mp4: 384x640 Done. (0.011s)\n",
            "video 1/1 (138/220) /content/gdrive/MyDrive/Transfer_Learning_Yolo/video.mp4: 384x640 1 incendie, Done. (0.011s)\n",
            "video 1/1 (139/220) /content/gdrive/MyDrive/Transfer_Learning_Yolo/video.mp4: 384x640 1 incendie, Done. (0.015s)\n",
            "video 1/1 (140/220) /content/gdrive/MyDrive/Transfer_Learning_Yolo/video.mp4: 384x640 1 incendie, Done. (0.010s)\n",
            "video 1/1 (141/220) /content/gdrive/MyDrive/Transfer_Learning_Yolo/video.mp4: 384x640 1 incendie, Done. (0.011s)\n",
            "video 1/1 (142/220) /content/gdrive/MyDrive/Transfer_Learning_Yolo/video.mp4: 384x640 1 incendie, Done. (0.020s)\n",
            "video 1/1 (143/220) /content/gdrive/MyDrive/Transfer_Learning_Yolo/video.mp4: 384x640 1 incendie, Done. (0.011s)\n",
            "video 1/1 (144/220) /content/gdrive/MyDrive/Transfer_Learning_Yolo/video.mp4: 384x640 1 incendie, Done. (0.010s)\n",
            "video 1/1 (145/220) /content/gdrive/MyDrive/Transfer_Learning_Yolo/video.mp4: 384x640 1 incendie, Done. (0.014s)\n",
            "video 1/1 (146/220) /content/gdrive/MyDrive/Transfer_Learning_Yolo/video.mp4: 384x640 1 incendie, Done. (0.010s)\n",
            "video 1/1 (147/220) /content/gdrive/MyDrive/Transfer_Learning_Yolo/video.mp4: 384x640 1 incendie, Done. (0.010s)\n",
            "video 1/1 (148/220) /content/gdrive/MyDrive/Transfer_Learning_Yolo/video.mp4: 384x640 1 incendie, Done. (0.011s)\n",
            "video 1/1 (149/220) /content/gdrive/MyDrive/Transfer_Learning_Yolo/video.mp4: 384x640 1 incendie, Done. (0.011s)\n",
            "video 1/1 (150/220) /content/gdrive/MyDrive/Transfer_Learning_Yolo/video.mp4: 384x640 1 incendie, Done. (0.011s)\n",
            "video 1/1 (151/220) /content/gdrive/MyDrive/Transfer_Learning_Yolo/video.mp4: 384x640 1 incendie, Done. (0.011s)\n",
            "video 1/1 (152/220) /content/gdrive/MyDrive/Transfer_Learning_Yolo/video.mp4: 384x640 1 incendie, Done. (0.010s)\n",
            "video 1/1 (153/220) /content/gdrive/MyDrive/Transfer_Learning_Yolo/video.mp4: 384x640 1 incendie, Done. (0.011s)\n",
            "video 1/1 (154/220) /content/gdrive/MyDrive/Transfer_Learning_Yolo/video.mp4: 384x640 Done. (0.010s)\n",
            "video 1/1 (155/220) /content/gdrive/MyDrive/Transfer_Learning_Yolo/video.mp4: 384x640 Done. (0.010s)\n",
            "video 1/1 (156/220) /content/gdrive/MyDrive/Transfer_Learning_Yolo/video.mp4: 384x640 Done. (0.010s)\n",
            "video 1/1 (157/220) /content/gdrive/MyDrive/Transfer_Learning_Yolo/video.mp4: 384x640 Done. (0.010s)\n",
            "video 1/1 (158/220) /content/gdrive/MyDrive/Transfer_Learning_Yolo/video.mp4: 384x640 1 incendie, Done. (0.013s)\n",
            "video 1/1 (159/220) /content/gdrive/MyDrive/Transfer_Learning_Yolo/video.mp4: 384x640 1 incendie, Done. (0.010s)\n",
            "video 1/1 (160/220) /content/gdrive/MyDrive/Transfer_Learning_Yolo/video.mp4: 384x640 Done. (0.010s)\n",
            "video 1/1 (161/220) /content/gdrive/MyDrive/Transfer_Learning_Yolo/video.mp4: 384x640 1 incendie, Done. (0.010s)\n",
            "video 1/1 (162/220) /content/gdrive/MyDrive/Transfer_Learning_Yolo/video.mp4: 384x640 1 incendie, Done. (0.010s)\n",
            "video 1/1 (163/220) /content/gdrive/MyDrive/Transfer_Learning_Yolo/video.mp4: 384x640 1 incendie, Done. (0.011s)\n",
            "video 1/1 (164/220) /content/gdrive/MyDrive/Transfer_Learning_Yolo/video.mp4: 384x640 1 incendie, Done. (0.010s)\n",
            "video 1/1 (165/220) /content/gdrive/MyDrive/Transfer_Learning_Yolo/video.mp4: 384x640 1 incendie, Done. (0.010s)\n",
            "video 1/1 (166/220) /content/gdrive/MyDrive/Transfer_Learning_Yolo/video.mp4: 384x640 1 incendie, Done. (0.010s)\n",
            "video 1/1 (167/220) /content/gdrive/MyDrive/Transfer_Learning_Yolo/video.mp4: 384x640 1 incendie, Done. (0.010s)\n",
            "video 1/1 (168/220) /content/gdrive/MyDrive/Transfer_Learning_Yolo/video.mp4: 384x640 1 incendie, Done. (0.010s)\n",
            "video 1/1 (169/220) /content/gdrive/MyDrive/Transfer_Learning_Yolo/video.mp4: 384x640 1 incendie, Done. (0.010s)\n",
            "video 1/1 (170/220) /content/gdrive/MyDrive/Transfer_Learning_Yolo/video.mp4: 384x640 1 incendie, Done. (0.010s)\n",
            "video 1/1 (171/220) /content/gdrive/MyDrive/Transfer_Learning_Yolo/video.mp4: 384x640 1 incendie, Done. (0.013s)\n",
            "video 1/1 (172/220) /content/gdrive/MyDrive/Transfer_Learning_Yolo/video.mp4: 384x640 1 incendie, Done. (0.010s)\n",
            "video 1/1 (173/220) /content/gdrive/MyDrive/Transfer_Learning_Yolo/video.mp4: 384x640 1 incendie, Done. (0.010s)\n",
            "video 1/1 (174/220) /content/gdrive/MyDrive/Transfer_Learning_Yolo/video.mp4: 384x640 1 incendie, Done. (0.010s)\n",
            "video 1/1 (175/220) /content/gdrive/MyDrive/Transfer_Learning_Yolo/video.mp4: 384x640 1 incendie, Done. (0.010s)\n",
            "video 1/1 (176/220) /content/gdrive/MyDrive/Transfer_Learning_Yolo/video.mp4: 384x640 1 incendie, Done. (0.011s)\n",
            "video 1/1 (177/220) /content/gdrive/MyDrive/Transfer_Learning_Yolo/video.mp4: 384x640 1 incendie, Done. (0.010s)\n",
            "video 1/1 (178/220) /content/gdrive/MyDrive/Transfer_Learning_Yolo/video.mp4: 384x640 1 incendie, Done. (0.015s)\n",
            "video 1/1 (179/220) /content/gdrive/MyDrive/Transfer_Learning_Yolo/video.mp4: 384x640 1 incendie, Done. (0.012s)\n",
            "video 1/1 (180/220) /content/gdrive/MyDrive/Transfer_Learning_Yolo/video.mp4: 384x640 1 incendie, Done. (0.012s)\n",
            "video 1/1 (181/220) /content/gdrive/MyDrive/Transfer_Learning_Yolo/video.mp4: 384x640 Done. (0.012s)\n",
            "video 1/1 (182/220) /content/gdrive/MyDrive/Transfer_Learning_Yolo/video.mp4: 384x640 Done. (0.012s)\n",
            "video 1/1 (183/220) /content/gdrive/MyDrive/Transfer_Learning_Yolo/video.mp4: 384x640 Done. (0.017s)\n",
            "video 1/1 (184/220) /content/gdrive/MyDrive/Transfer_Learning_Yolo/video.mp4: 384x640 Done. (0.011s)\n",
            "video 1/1 (185/220) /content/gdrive/MyDrive/Transfer_Learning_Yolo/video.mp4: 384x640 Done. (0.011s)\n",
            "video 1/1 (186/220) /content/gdrive/MyDrive/Transfer_Learning_Yolo/video.mp4: 384x640 Done. (0.010s)\n",
            "video 1/1 (187/220) /content/gdrive/MyDrive/Transfer_Learning_Yolo/video.mp4: 384x640 Done. (0.011s)\n",
            "video 1/1 (188/220) /content/gdrive/MyDrive/Transfer_Learning_Yolo/video.mp4: 384x640 Done. (0.010s)\n",
            "video 1/1 (189/220) /content/gdrive/MyDrive/Transfer_Learning_Yolo/video.mp4: 384x640 Done. (0.011s)\n",
            "video 1/1 (190/220) /content/gdrive/MyDrive/Transfer_Learning_Yolo/video.mp4: 384x640 Done. (0.010s)\n",
            "video 1/1 (191/220) /content/gdrive/MyDrive/Transfer_Learning_Yolo/video.mp4: 384x640 Done. (0.010s)\n",
            "video 1/1 (192/220) /content/gdrive/MyDrive/Transfer_Learning_Yolo/video.mp4: 384x640 Done. (0.011s)\n",
            "video 1/1 (193/220) /content/gdrive/MyDrive/Transfer_Learning_Yolo/video.mp4: 384x640 Done. (0.011s)\n",
            "video 1/1 (194/220) /content/gdrive/MyDrive/Transfer_Learning_Yolo/video.mp4: 384x640 Done. (0.010s)\n",
            "video 1/1 (195/220) /content/gdrive/MyDrive/Transfer_Learning_Yolo/video.mp4: 384x640 Done. (0.010s)\n",
            "video 1/1 (196/220) /content/gdrive/MyDrive/Transfer_Learning_Yolo/video.mp4: 384x640 Done. (0.010s)\n",
            "video 1/1 (197/220) /content/gdrive/MyDrive/Transfer_Learning_Yolo/video.mp4: 384x640 Done. (0.011s)\n",
            "video 1/1 (198/220) /content/gdrive/MyDrive/Transfer_Learning_Yolo/video.mp4: 384x640 Done. (0.010s)\n",
            "video 1/1 (199/220) /content/gdrive/MyDrive/Transfer_Learning_Yolo/video.mp4: 384x640 Done. (0.010s)\n",
            "video 1/1 (200/220) /content/gdrive/MyDrive/Transfer_Learning_Yolo/video.mp4: 384x640 Done. (0.010s)\n",
            "video 1/1 (201/220) /content/gdrive/MyDrive/Transfer_Learning_Yolo/video.mp4: 384x640 Done. (0.011s)\n",
            "video 1/1 (202/220) /content/gdrive/MyDrive/Transfer_Learning_Yolo/video.mp4: 384x640 Done. (0.010s)\n",
            "video 1/1 (203/220) /content/gdrive/MyDrive/Transfer_Learning_Yolo/video.mp4: 384x640 1 incendie, Done. (0.010s)\n",
            "video 1/1 (204/220) /content/gdrive/MyDrive/Transfer_Learning_Yolo/video.mp4: 384x640 1 incendie, Done. (0.011s)\n",
            "video 1/1 (205/220) /content/gdrive/MyDrive/Transfer_Learning_Yolo/video.mp4: 384x640 1 incendie, Done. (0.010s)\n",
            "video 1/1 (206/220) /content/gdrive/MyDrive/Transfer_Learning_Yolo/video.mp4: 384x640 1 incendie, Done. (0.014s)\n",
            "video 1/1 (207/220) /content/gdrive/MyDrive/Transfer_Learning_Yolo/video.mp4: 384x640 1 incendie, Done. (0.010s)\n",
            "video 1/1 (208/220) /content/gdrive/MyDrive/Transfer_Learning_Yolo/video.mp4: 384x640 1 incendie, Done. (0.011s)\n",
            "video 1/1 (209/220) /content/gdrive/MyDrive/Transfer_Learning_Yolo/video.mp4: 384x640 1 incendie, Done. (0.010s)\n",
            "video 1/1 (210/220) /content/gdrive/MyDrive/Transfer_Learning_Yolo/video.mp4: 384x640 1 incendie, Done. (0.011s)\n",
            "video 1/1 (211/220) /content/gdrive/MyDrive/Transfer_Learning_Yolo/video.mp4: 384x640 1 incendie, Done. (0.010s)\n",
            "video 1/1 (212/220) /content/gdrive/MyDrive/Transfer_Learning_Yolo/video.mp4: 384x640 1 incendie, Done. (0.013s)\n",
            "video 1/1 (213/220) /content/gdrive/MyDrive/Transfer_Learning_Yolo/video.mp4: 384x640 1 incendie, Done. (0.010s)\n",
            "video 1/1 (214/220) /content/gdrive/MyDrive/Transfer_Learning_Yolo/video.mp4: 384x640 1 incendie, Done. (0.011s)\n",
            "video 1/1 (215/220) /content/gdrive/MyDrive/Transfer_Learning_Yolo/video.mp4: 384x640 1 incendie, Done. (0.012s)\n",
            "video 1/1 (216/220) /content/gdrive/MyDrive/Transfer_Learning_Yolo/video.mp4: 384x640 Done. (0.011s)\n",
            "video 1/1 (217/220) /content/gdrive/MyDrive/Transfer_Learning_Yolo/video.mp4: 384x640 Done. (0.011s)\n",
            "video 1/1 (218/220) /content/gdrive/MyDrive/Transfer_Learning_Yolo/video.mp4: 384x640 Done. (0.011s)\n",
            "Speed: 0.4ms pre-process, 11.0ms inference, 0.7ms NMS per image at shape (1, 3, 640, 640)\n",
            "Results saved to \u001b[1mruns/detect/exp3\u001b[0m\n"
          ]
        }
      ]
    },
    {
      "cell_type": "markdown",
      "metadata": {
        "id": "hkAzDWJ7cWTr"
      },
      "source": [
        "&nbsp;&nbsp;&nbsp;&nbsp;&nbsp;&nbsp;&nbsp;&nbsp;\n",
        "<img align=\"left\" src=\"https://user-images.githubusercontent.com/26833433/127574988-6a558aa1-d268-44b9-bf6b-62d4c605cc72.jpg\" width=\"600\">"
      ]
    },
    {
      "cell_type": "markdown",
      "metadata": {
        "id": "0eq1SMWl6Sfn"
      },
      "source": [
        "# 2. Validate\n",
        "Validate a model's accuracy on [COCO](https://cocodataset.org/#home) val or test-dev datasets. Models are downloaded automatically from the [latest YOLOv5 release](https://github.com/ultralytics/yolov5/releases). To show results by class use the `--verbose` flag. Note that `pycocotools` metrics may be ~1% better than the equivalent repo metrics, as is visible below, due to slight differences in mAP computation."
      ]
    },
    {
      "cell_type": "markdown",
      "metadata": {
        "id": "eyTZYGgRjnMc"
      },
      "source": [
        "## COCO val\n",
        "Download [COCO val 2017](https://github.com/ultralytics/yolov5/blob/74b34872fdf41941cddcf243951cdb090fbac17b/data/coco.yaml#L14) dataset (1GB - 5000 images), and test model accuracy."
      ]
    },
    {
      "cell_type": "code",
      "metadata": {
        "id": "WQPtK1QYVaD_",
        "colab": {
          "base_uri": "https://localhost:8080/",
          "height": 49,
          "referenced_widgets": [
            "a5ecf99f204e4ed481ff31d0f7e0850d",
            "da052201ea3c49d69215978bb9aa3c71",
            "5ee0ad3b388341fc9cd811d6061f009e",
            "2e7b5e48a8ce4a99b80fedb58d8803d2",
            "4230da8fb64a416a8993c93ed0bfce0f",
            "b4cdc8423e8c472db25daa50c6d5b1c6",
            "c73247c58e344894a52a75b4c07e9ccf",
            "b05232e6ffb74a2f988013d7cafc2f2b",
            "d07ebaa15bbd469498ddf95942407b10",
            "b72fab239df04b1e8246afa351be6871",
            "95bffa3fee4840cd803cea1a21fd97c2"
          ]
        },
        "outputId": "bc611f98-dc91-4d75-d7d9-3a0231e65098"
      },
      "source": [
        "# Download COCO val\n",
        "torch.hub.download_url_to_file('https://ultralytics.com/assets/coco2017val.zip', 'tmp.zip')\n",
        "!unzip -q tmp.zip -d ../datasets && rm tmp.zip"
      ],
      "execution_count": null,
      "outputs": [
        {
          "output_type": "display_data",
          "data": {
            "text/plain": [
              "  0%|          | 0.00/780M [00:00<?, ?B/s]"
            ],
            "application/vnd.jupyter.widget-view+json": {
              "version_major": 2,
              "version_minor": 0,
              "model_id": "a5ecf99f204e4ed481ff31d0f7e0850d"
            }
          },
          "metadata": {}
        }
      ]
    },
    {
      "cell_type": "code",
      "metadata": {
        "id": "X58w8JLpMnjH",
        "colab": {
          "base_uri": "https://localhost:8080/"
        },
        "outputId": "f2f7ba94-c038-41b6-f655-0a3726b2a59c"
      },
      "source": [
        "# Run YOLOv5x on COCO val\n",
        "!python val.py --weights yolov5x.pt --data coco.yaml --img 640 --iou 0.65 --half"
      ],
      "execution_count": null,
      "outputs": [
        {
          "output_type": "stream",
          "name": "stdout",
          "text": [
            "Traceback (most recent call last):\n",
            "  File \"val.py\", line 37, in <module>\n",
            "    from models.common import DetectMultiBackend\n",
            "  File \"/content/gdrive/MyDrive/Transfer_Learning_Yolo/yolov5/models/common.py\", line 24, in <module>\n",
            "    from utils.dataloaders import exif_transpose, letterbox\n",
            "  File \"/content/gdrive/MyDrive/Transfer_Learning_Yolo/yolov5/utils/dataloaders.py\", line 29, in <module>\n",
            "    from utils.augmentations import Albumentations, augment_hsv, copy_paste, letterbox, mixup, random_perspective\n",
            "  File \"/content/gdrive/MyDrive/Transfer_Learning_Yolo/yolov5/utils/augmentations.py\", line 12, in <module>\n",
            "    from utils.general import LOGGER, check_version, colorstr, resample_segments, segment2box\n",
            "  File \"/content/gdrive/MyDrive/Transfer_Learning_Yolo/yolov5/utils/general.py\", line 31, in <module>\n",
            "    import pkg_resources as pkg\n",
            "  File \"/usr/local/lib/python3.7/dist-packages/pkg_resources/__init__.py\", line 3242, in <module>\n",
            "    @_call_aside\n",
            "  File \"/usr/local/lib/python3.7/dist-packages/pkg_resources/__init__.py\", line 3226, in _call_aside\n",
            "    f(*args, **kwargs)\n",
            "  File \"/usr/local/lib/python3.7/dist-packages/pkg_resources/__init__.py\", line 3270, in _initialize_master_working_set\n",
            "    for dist in working_set\n",
            "  File \"/usr/local/lib/python3.7/dist-packages/pkg_resources/__init__.py\", line 3270, in <genexpr>\n",
            "    for dist in working_set\n",
            "  File \"/usr/local/lib/python3.7/dist-packages/pkg_resources/__init__.py\", line 2783, in activate\n",
            "    declare_namespace(pkg)\n",
            "  File \"/usr/local/lib/python3.7/dist-packages/pkg_resources/__init__.py\", line 2282, in declare_namespace\n",
            "    _handle_ns(packageName, path_item)\n",
            "  File \"/usr/local/lib/python3.7/dist-packages/pkg_resources/__init__.py\", line 2194, in _handle_ns\n",
            "    loader = importer.find_spec(packageName).loader\n",
            "  File \"<frozen importlib._bootstrap_external>\", line 1364, in find_spec\n",
            "  File \"<frozen importlib._bootstrap_external>\", line 81, in _path_stat\n",
            "KeyboardInterrupt\n"
          ]
        }
      ]
    },
    {
      "cell_type": "markdown",
      "metadata": {
        "id": "rc_KbFk0juX2"
      },
      "source": [
        "## COCO test\n",
        "Download [COCO test2017](https://github.com/ultralytics/yolov5/blob/74b34872fdf41941cddcf243951cdb090fbac17b/data/coco.yaml#L15) dataset (7GB - 40,000 images), to test model accuracy on test-dev set (**20,000 images, no labels**). Results are saved to a `*.json` file which should be **zipped** and submitted to the evaluation server at https://competitions.codalab.org/competitions/20794."
      ]
    },
    {
      "cell_type": "code",
      "metadata": {
        "id": "V0AJnSeCIHyJ"
      },
      "source": [
        "# Download COCO test-dev2017\n",
        "torch.hub.download_url_to_file('https://ultralytics.com/assets/coco2017labels.zip', 'tmp.zip')\n",
        "!unzip -q tmp.zip -d ../datasets && rm tmp.zip\n",
        "!f=\"test2017.zip\" && curl http://images.cocodataset.org/zips/$f -o $f && unzip -q $f -d ../datasets/coco/images"
      ],
      "execution_count": null,
      "outputs": []
    },
    {
      "cell_type": "code",
      "metadata": {
        "id": "29GJXAP_lPrt"
      },
      "source": [
        "# Run YOLOv5x on COCO test\n",
        "!python val.py --weights yolov5x.pt --data coco.yaml --img 640 --iou 0.65 --half --task test"
      ],
      "execution_count": null,
      "outputs": []
    },
    {
      "cell_type": "markdown",
      "metadata": {
        "id": "ZY2VXXXu74w5"
      },
      "source": [
        "# 3. Train\n",
        "\n",
        "<p align=\"\"><a href=\"https://roboflow.com/?ref=ultralytics\"><img width=\"1000\" src=\"https://uploads-ssl.webflow.com/5f6bc60e665f54545a1e52a5/615627e5824c9c6195abfda9_computer-vision-cycle.png\"/></a></p>\n",
        "Close the active learning loop by sampling images from your inference conditions with the `roboflow` pip package\n",
        "<br><br>\n",
        "\n",
        "Train a YOLOv5s model on the [COCO128](https://www.kaggle.com/ultralytics/coco128) dataset with `--data coco128.yaml`, starting from pretrained `--weights yolov5s.pt`, or from randomly initialized `--weights '' --cfg yolov5s.yaml`.\n",
        "\n",
        "- **Pretrained [Models](https://github.com/ultralytics/yolov5/tree/master/models)** are downloaded\n",
        "automatically from the [latest YOLOv5 release](https://github.com/ultralytics/yolov5/releases)\n",
        "- **[Datasets](https://github.com/ultralytics/yolov5/tree/master/data)** available for autodownload include: [COCO](https://github.com/ultralytics/yolov5/blob/master/data/coco.yaml), [COCO128](https://github.com/ultralytics/yolov5/blob/master/data/coco128.yaml), [VOC](https://github.com/ultralytics/yolov5/blob/master/data/VOC.yaml), [Argoverse](https://github.com/ultralytics/yolov5/blob/master/data/Argoverse.yaml), [VisDrone](https://github.com/ultralytics/yolov5/blob/master/data/VisDrone.yaml), [GlobalWheat](https://github.com/ultralytics/yolov5/blob/master/data/GlobalWheat2020.yaml), [xView](https://github.com/ultralytics/yolov5/blob/master/data/xView.yaml), [Objects365](https://github.com/ultralytics/yolov5/blob/master/data/Objects365.yaml), [SKU-110K](https://github.com/ultralytics/yolov5/blob/master/data/SKU-110K.yaml).\n",
        "- **Training Results** are saved to `runs/train/` with incrementing run directories, i.e. `runs/train/exp2`, `runs/train/exp3` etc.\n",
        "<br><br>\n",
        "\n",
        "## Train on Custom Data with Roboflow 🌟 NEW\n",
        "\n",
        "[Roboflow](https://roboflow.com/?ref=ultralytics) enables you to easily **organize, label, and prepare** a high quality dataset with your own custom data. Roboflow also makes it easy to establish an active learning pipeline, collaborate with your team on dataset improvement, and integrate directly into your model building workflow with the `roboflow` pip package.\n",
        "\n",
        "- Custom Training Example: [https://blog.roboflow.com/how-to-train-yolov5-on-a-custom-dataset/](https://blog.roboflow.com/how-to-train-yolov5-on-a-custom-dataset/?ref=ultralytics)\n",
        "- Custom Training Notebook: [![Open In Colab](https://colab.research.google.com/assets/colab-badge.svg)](https://colab.research.google.com/github/roboflow-ai/yolov5-custom-training-tutorial/blob/main/yolov5-custom-training.ipynb)\n",
        "<br>\n",
        "\n",
        "<p align=\"\"><a href=\"https://roboflow.com/?ref=ultralytics\"><img width=\"480\" src=\"https://uploads-ssl.webflow.com/5f6bc60e665f54545a1e52a5/6152a275ad4b4ac20cd2e21a_roboflow-annotate.gif\"/></a></p>Label images lightning fast (including with model-assisted labeling)"
      ]
    },
    {
      "cell_type": "code",
      "metadata": {
        "id": "bOy5KI2ncnWd"
      },
      "source": [
        "# Tensorboard  (optional)\n",
        "%load_ext tensorboard\n",
        "%tensorboard --logdir runs/train"
      ],
      "execution_count": null,
      "outputs": []
    },
    {
      "cell_type": "code",
      "metadata": {
        "id": "2fLAV42oNb7M"
      },
      "source": [
        "# Weights & Biases  (optional)\n",
        "%pip install -q wandb\n",
        "import wandb\n",
        "wandb.login()"
      ],
      "execution_count": null,
      "outputs": []
    },
    {
      "cell_type": "code",
      "metadata": {
        "id": "1NcFxRcFdJ_O",
        "colab": {
          "base_uri": "https://localhost:8080/"
        },
        "outputId": "4a642796-fe0b-44f7-e8c6-7ed63d66439a"
      },
      "source": [
        "# Train YOLOv5s on COCO128 for 3 epochs\n",
        "!python train.py --img 640 --batch 2 --epochs 50 --data custom_data.yaml --weights yolov5s.pt --cache"
      ],
      "execution_count": null,
      "outputs": [
        {
          "output_type": "stream",
          "name": "stdout",
          "text": [
            "\u001b[34m\u001b[1mtrain: \u001b[0mweights=yolov5s.pt, cfg=, data=custom_data.yaml, hyp=data/hyps/hyp.scratch-low.yaml, epochs=50, batch_size=2, imgsz=640, rect=False, resume=False, nosave=False, noval=False, noautoanchor=False, noplots=False, evolve=None, bucket=, cache=ram, image_weights=False, device=, multi_scale=False, single_cls=False, optimizer=SGD, sync_bn=False, workers=8, project=runs/train, name=exp, exist_ok=False, quad=False, cos_lr=False, label_smoothing=0.0, patience=100, freeze=[0], save_period=-1, local_rank=-1, entity=None, upload_dataset=False, bbox_interval=-1, artifact_alias=latest\n",
            "\u001b[34m\u001b[1mgithub: \u001b[0mup to date with https://github.com/ultralytics/yolov5 ✅\n",
            "YOLOv5 🚀 v6.1-237-g50b886d Python-3.7.13 torch-1.11.0+cu113 CUDA:0 (Tesla T4, 15110MiB)\n",
            "\n",
            "\u001b[34m\u001b[1mhyperparameters: \u001b[0mlr0=0.01, lrf=0.01, momentum=0.937, weight_decay=0.0005, warmup_epochs=3.0, warmup_momentum=0.8, warmup_bias_lr=0.1, box=0.05, cls=0.5, cls_pw=1.0, obj=1.0, obj_pw=1.0, iou_t=0.2, anchor_t=4.0, fl_gamma=0.0, hsv_h=0.015, hsv_s=0.7, hsv_v=0.4, degrees=0.0, translate=0.1, scale=0.5, shear=0.0, perspective=0.0, flipud=0.0, fliplr=0.5, mosaic=1.0, mixup=0.0, copy_paste=0.0\n",
            "\u001b[34m\u001b[1mWeights & Biases: \u001b[0mrun 'pip install wandb' to automatically track and visualize YOLOv5 🚀 runs (RECOMMENDED)\n",
            "\u001b[34m\u001b[1mTensorBoard: \u001b[0mStart with 'tensorboard --logdir runs/train', view at http://localhost:6006/\n",
            "Overriding model.yaml nc=80 with nc=1\n",
            "\n",
            "                 from  n    params  module                                  arguments                     \n",
            "  0                -1  1      3520  models.common.Conv                      [3, 32, 6, 2, 2]              \n",
            "  1                -1  1     18560  models.common.Conv                      [32, 64, 3, 2]                \n",
            "  2                -1  1     18816  models.common.C3                        [64, 64, 1]                   \n",
            "  3                -1  1     73984  models.common.Conv                      [64, 128, 3, 2]               \n",
            "  4                -1  2    115712  models.common.C3                        [128, 128, 2]                 \n",
            "  5                -1  1    295424  models.common.Conv                      [128, 256, 3, 2]              \n",
            "  6                -1  3    625152  models.common.C3                        [256, 256, 3]                 \n",
            "  7                -1  1   1180672  models.common.Conv                      [256, 512, 3, 2]              \n",
            "  8                -1  1   1182720  models.common.C3                        [512, 512, 1]                 \n",
            "  9                -1  1    656896  models.common.SPPF                      [512, 512, 5]                 \n",
            " 10                -1  1    131584  models.common.Conv                      [512, 256, 1, 1]              \n",
            " 11                -1  1         0  torch.nn.modules.upsampling.Upsample    [None, 2, 'nearest']          \n",
            " 12           [-1, 6]  1         0  models.common.Concat                    [1]                           \n",
            " 13                -1  1    361984  models.common.C3                        [512, 256, 1, False]          \n",
            " 14                -1  1     33024  models.common.Conv                      [256, 128, 1, 1]              \n",
            " 15                -1  1         0  torch.nn.modules.upsampling.Upsample    [None, 2, 'nearest']          \n",
            " 16           [-1, 4]  1         0  models.common.Concat                    [1]                           \n",
            " 17                -1  1     90880  models.common.C3                        [256, 128, 1, False]          \n",
            " 18                -1  1    147712  models.common.Conv                      [128, 128, 3, 2]              \n",
            " 19          [-1, 14]  1         0  models.common.Concat                    [1]                           \n",
            " 20                -1  1    296448  models.common.C3                        [256, 256, 1, False]          \n",
            " 21                -1  1    590336  models.common.Conv                      [256, 256, 3, 2]              \n",
            " 22          [-1, 10]  1         0  models.common.Concat                    [1]                           \n",
            " 23                -1  1   1182720  models.common.C3                        [512, 512, 1, False]          \n",
            " 24      [17, 20, 23]  1     16182  models.yolo.Detect                      [1, [[10, 13, 16, 30, 33, 23], [30, 61, 62, 45, 59, 119], [116, 90, 156, 198, 373, 326]], [128, 256, 512]]\n",
            "Model summary: 270 layers, 7022326 parameters, 7022326 gradients, 15.8 GFLOPs\n",
            "\n",
            "Transferred 343/349 items from yolov5s.pt\n",
            "\u001b[34m\u001b[1mAMP: \u001b[0mchecks passed ✅\n",
            "Scaled weight_decay = 0.0005\n",
            "\u001b[34m\u001b[1moptimizer:\u001b[0m SGD with parameter groups 57 weight (no decay), 60 weight, 60 bias\n",
            "\u001b[34m\u001b[1malbumentations: \u001b[0mversion 1.0.3 required by YOLOv5, but version 0.1.12 is currently installed\n",
            "\u001b[34m\u001b[1mtrain: \u001b[0mScanning '/content/gdrive/MyDrive/Transfer_Learning_Yolo/yolov5/../train_data/labels/train' images and labels...383 found, 29 missing, 0 empty, 0 corrupt: 100% 412/412 [01:26<00:00,  4.76it/s]\n",
            "\u001b[34m\u001b[1mtrain: \u001b[0mNew cache created: /content/gdrive/MyDrive/Transfer_Learning_Yolo/yolov5/../train_data/labels/train.cache\n",
            "\u001b[34m\u001b[1mtrain: \u001b[0mCaching images (0.3GB ram): 100% 412/412 [00:01<00:00, 302.72it/s]\n",
            "\u001b[34m\u001b[1mval: \u001b[0mScanning '/content/gdrive/MyDrive/Transfer_Learning_Yolo/yolov5/../train_data/labels/val' images and labels...90 found, 0 missing, 0 empty, 0 corrupt: 100% 90/90 [00:37<00:00,  2.37it/s]\n",
            "\u001b[34m\u001b[1mval: \u001b[0mNew cache created: /content/gdrive/MyDrive/Transfer_Learning_Yolo/yolov5/../train_data/labels/val.cache\n",
            "\u001b[34m\u001b[1mval: \u001b[0mCaching images (0.1GB ram): 100% 90/90 [00:00<00:00, 297.50it/s]\n",
            "Plotting labels to runs/train/exp7/labels.jpg... \n",
            "\n",
            "\u001b[34m\u001b[1mAutoAnchor: \u001b[0m4.89 anchors/target, 1.000 Best Possible Recall (BPR). Current anchors are a good fit to dataset ✅\n",
            "Image sizes 640 train, 640 val\n",
            "Using 2 dataloader workers\n",
            "Logging results to \u001b[1mruns/train/exp7\u001b[0m\n",
            "Starting training for 50 epochs...\n",
            "\n",
            "     Epoch   gpu_mem       box       obj       cls    labels  img_size\n",
            "      0/49    0.501G    0.1013   0.03195         0         3       640: 100% 206/206 [00:24<00:00,  8.38it/s]\n",
            "               Class     Images     Labels          P          R     mAP@.5 mAP@.5:.95: 100% 23/23 [00:01<00:00, 14.89it/s]\n",
            "                 all         90        117    0.00647      0.316    0.00574    0.00135\n",
            "\n",
            "     Epoch   gpu_mem       box       obj       cls    labels  img_size\n",
            "      1/49    0.768G   0.08059   0.02729         0        10       640: 100% 206/206 [00:22<00:00,  9.30it/s]\n",
            "               Class     Images     Labels          P          R     mAP@.5 mAP@.5:.95: 100% 23/23 [00:01<00:00, 16.60it/s]\n",
            "                 all         90        117      0.306      0.171      0.144     0.0387\n",
            "\n",
            "     Epoch   gpu_mem       box       obj       cls    labels  img_size\n",
            "      2/49     0.77G   0.07184   0.02337         0         8       640: 100% 206/206 [00:21<00:00,  9.62it/s]\n",
            "               Class     Images     Labels          P          R     mAP@.5 mAP@.5:.95: 100% 23/23 [00:01<00:00, 18.76it/s]\n",
            "                 all         90        117     0.0972      0.453      0.165     0.0473\n",
            "\n",
            "     Epoch   gpu_mem       box       obj       cls    labels  img_size\n",
            "      3/49     0.77G   0.06661    0.0238         0         5       640: 100% 206/206 [00:20<00:00,  9.92it/s]\n",
            "               Class     Images     Labels          P          R     mAP@.5 mAP@.5:.95: 100% 23/23 [00:01<00:00, 18.02it/s]\n",
            "                 all         90        117      0.321      0.299      0.248     0.0816\n",
            "\n",
            "     Epoch   gpu_mem       box       obj       cls    labels  img_size\n",
            "      4/49     0.77G   0.06287   0.02183         0         2       640: 100% 206/206 [00:21<00:00,  9.52it/s]\n",
            "               Class     Images     Labels          P          R     mAP@.5 mAP@.5:.95: 100% 23/23 [00:01<00:00, 18.20it/s]\n",
            "                 all         90        117      0.499      0.436      0.453      0.161\n",
            "\n",
            "     Epoch   gpu_mem       box       obj       cls    labels  img_size\n",
            "      5/49     0.77G    0.0556    0.0215         0         7       640: 100% 206/206 [00:21<00:00,  9.80it/s]\n",
            "               Class     Images     Labels          P          R     mAP@.5 mAP@.5:.95: 100% 23/23 [00:01<00:00, 19.11it/s]\n",
            "                 all         90        117      0.453      0.419       0.45      0.153\n",
            "\n",
            "     Epoch   gpu_mem       box       obj       cls    labels  img_size\n",
            "      6/49     0.77G   0.05786    0.0214         0         2       640: 100% 206/206 [00:20<00:00,  9.84it/s]\n",
            "               Class     Images     Labels          P          R     mAP@.5 mAP@.5:.95: 100% 23/23 [00:01<00:00, 18.79it/s]\n",
            "                 all         90        117      0.411      0.555      0.384      0.133\n",
            "\n",
            "     Epoch   gpu_mem       box       obj       cls    labels  img_size\n",
            "      7/49     0.77G   0.05318   0.01863         0         6       640: 100% 206/206 [00:20<00:00,  9.88it/s]\n",
            "               Class     Images     Labels          P          R     mAP@.5 mAP@.5:.95: 100% 23/23 [00:01<00:00, 18.16it/s]\n",
            "                 all         90        117      0.677       0.59       0.63       0.23\n",
            "\n",
            "     Epoch   gpu_mem       box       obj       cls    labels  img_size\n",
            "      8/49     0.77G   0.04996     0.019         0         4       640: 100% 206/206 [00:21<00:00,  9.68it/s]\n",
            "               Class     Images     Labels          P          R     mAP@.5 mAP@.5:.95: 100% 23/23 [00:01<00:00, 17.81it/s]\n",
            "                 all         90        117      0.584       0.59      0.552      0.213\n",
            "\n",
            "     Epoch   gpu_mem       box       obj       cls    labels  img_size\n",
            "      9/49     0.77G   0.05041   0.02003         0         2       640: 100% 206/206 [00:22<00:00,  9.33it/s]\n",
            "               Class     Images     Labels          P          R     mAP@.5 mAP@.5:.95: 100% 23/23 [00:01<00:00, 17.80it/s]\n",
            "                 all         90        117      0.681      0.701      0.731      0.283\n",
            "\n",
            "     Epoch   gpu_mem       box       obj       cls    labels  img_size\n",
            "     10/49     0.77G   0.04757    0.0189         0         7       640: 100% 206/206 [00:21<00:00,  9.74it/s]\n",
            "               Class     Images     Labels          P          R     mAP@.5 mAP@.5:.95: 100% 23/23 [00:01<00:00, 18.67it/s]\n",
            "                 all         90        117      0.755      0.675      0.727      0.305\n",
            "\n",
            "     Epoch   gpu_mem       box       obj       cls    labels  img_size\n",
            "     11/49     0.77G   0.04669   0.01864         0         8       640: 100% 206/206 [00:20<00:00,  9.98it/s]\n",
            "               Class     Images     Labels          P          R     mAP@.5 mAP@.5:.95: 100% 23/23 [00:01<00:00, 16.96it/s]\n",
            "                 all         90        117      0.702      0.718      0.716      0.271\n",
            "\n",
            "     Epoch   gpu_mem       box       obj       cls    labels  img_size\n",
            "     12/49     0.77G   0.04566   0.01894         0         2       640: 100% 206/206 [00:20<00:00, 10.05it/s]\n",
            "               Class     Images     Labels          P          R     mAP@.5 mAP@.5:.95: 100% 23/23 [00:01<00:00, 16.83it/s]\n",
            "                 all         90        117      0.614      0.692      0.631      0.234\n",
            "\n",
            "     Epoch   gpu_mem       box       obj       cls    labels  img_size\n",
            "     13/49     0.77G   0.04649   0.01892         0         5       640: 100% 206/206 [00:20<00:00, 10.07it/s]\n",
            "               Class     Images     Labels          P          R     mAP@.5 mAP@.5:.95: 100% 23/23 [00:01<00:00, 18.58it/s]\n",
            "                 all         90        117      0.734      0.709      0.679      0.258\n",
            "\n",
            "     Epoch   gpu_mem       box       obj       cls    labels  img_size\n",
            "     14/49     0.77G   0.04585   0.01926         0         4       640: 100% 206/206 [00:20<00:00, 10.07it/s]\n",
            "               Class     Images     Labels          P          R     mAP@.5 mAP@.5:.95: 100% 23/23 [00:01<00:00, 18.71it/s]\n",
            "                 all         90        117      0.651      0.719      0.701       0.28\n",
            "\n",
            "     Epoch   gpu_mem       box       obj       cls    labels  img_size\n",
            "     15/49     0.77G   0.04419   0.01875         0         6       640: 100% 206/206 [00:21<00:00,  9.76it/s]\n",
            "               Class     Images     Labels          P          R     mAP@.5 mAP@.5:.95: 100% 23/23 [00:01<00:00, 17.90it/s]\n",
            "                 all         90        117      0.712      0.741      0.716      0.271\n",
            "\n",
            "     Epoch   gpu_mem       box       obj       cls    labels  img_size\n",
            "     16/49     0.77G   0.04399   0.01746         0         5       640: 100% 206/206 [00:20<00:00,  9.98it/s]\n",
            "               Class     Images     Labels          P          R     mAP@.5 mAP@.5:.95: 100% 23/23 [00:01<00:00, 18.63it/s]\n",
            "                 all         90        117      0.694      0.726      0.705      0.267\n",
            "\n",
            "     Epoch   gpu_mem       box       obj       cls    labels  img_size\n",
            "     17/49     0.77G   0.04479   0.01895         0         5       640: 100% 206/206 [00:21<00:00,  9.73it/s]\n",
            "               Class     Images     Labels          P          R     mAP@.5 mAP@.5:.95: 100% 23/23 [00:01<00:00, 18.21it/s]\n",
            "                 all         90        117      0.742      0.726      0.754      0.274\n",
            "\n",
            "     Epoch   gpu_mem       box       obj       cls    labels  img_size\n",
            "     18/49     0.77G   0.04168   0.01751         0         4       640: 100% 206/206 [00:21<00:00,  9.56it/s]\n",
            "               Class     Images     Labels          P          R     mAP@.5 mAP@.5:.95: 100% 23/23 [00:01<00:00, 17.37it/s]\n",
            "                 all         90        117      0.711      0.761      0.743      0.284\n",
            "\n",
            "     Epoch   gpu_mem       box       obj       cls    labels  img_size\n",
            "     19/49     0.77G   0.04144   0.01769         0         5       640: 100% 206/206 [00:21<00:00,  9.63it/s]\n",
            "               Class     Images     Labels          P          R     mAP@.5 mAP@.5:.95: 100% 23/23 [00:01<00:00, 18.26it/s]\n",
            "                 all         90        117      0.682      0.701      0.626      0.219\n",
            "\n",
            "     Epoch   gpu_mem       box       obj       cls    labels  img_size\n",
            "     20/49     0.77G    0.0413   0.01674         0         8       640: 100% 206/206 [00:21<00:00,  9.69it/s]\n",
            "               Class     Images     Labels          P          R     mAP@.5 mAP@.5:.95: 100% 23/23 [00:01<00:00, 17.99it/s]\n",
            "                 all         90        117      0.732      0.702      0.727      0.285\n",
            "\n",
            "     Epoch   gpu_mem       box       obj       cls    labels  img_size\n",
            "     21/49     0.77G   0.03875   0.01729         0         6       640: 100% 206/206 [00:21<00:00,  9.66it/s]\n",
            "               Class     Images     Labels          P          R     mAP@.5 mAP@.5:.95: 100% 23/23 [00:01<00:00, 17.71it/s]\n",
            "                 all         90        117      0.715       0.73      0.669      0.238\n",
            "\n",
            "     Epoch   gpu_mem       box       obj       cls    labels  img_size\n",
            "     22/49     0.77G   0.03942   0.01672         0         3       640: 100% 206/206 [00:21<00:00,  9.66it/s]\n",
            "               Class     Images     Labels          P          R     mAP@.5 mAP@.5:.95: 100% 23/23 [00:01<00:00, 18.25it/s]\n",
            "                 all         90        117      0.734      0.735      0.707      0.292\n",
            "\n",
            "     Epoch   gpu_mem       box       obj       cls    labels  img_size\n",
            "     23/49     0.77G    0.0394   0.01707         0         3       640: 100% 206/206 [00:21<00:00,  9.64it/s]\n",
            "               Class     Images     Labels          P          R     mAP@.5 mAP@.5:.95: 100% 23/23 [00:01<00:00, 18.07it/s]\n",
            "                 all         90        117      0.799      0.718       0.74      0.282\n",
            "\n",
            "     Epoch   gpu_mem       box       obj       cls    labels  img_size\n",
            "     24/49     0.77G   0.03713   0.01636         0         3       640: 100% 206/206 [00:21<00:00,  9.72it/s]\n",
            "               Class     Images     Labels          P          R     mAP@.5 mAP@.5:.95: 100% 23/23 [00:01<00:00, 18.47it/s]\n",
            "                 all         90        117      0.797      0.737      0.745      0.286\n",
            "\n",
            "     Epoch   gpu_mem       box       obj       cls    labels  img_size\n",
            "     25/49     0.77G   0.03822   0.01657         0         4       640: 100% 206/206 [00:21<00:00,  9.80it/s]\n",
            "               Class     Images     Labels          P          R     mAP@.5 mAP@.5:.95: 100% 23/23 [00:01<00:00, 18.70it/s]\n",
            "                 all         90        117      0.713      0.752      0.729      0.306\n",
            "\n",
            "     Epoch   gpu_mem       box       obj       cls    labels  img_size\n",
            "     26/49     0.77G   0.03632   0.01629         0         5       640: 100% 206/206 [00:22<00:00,  9.34it/s]\n",
            "               Class     Images     Labels          P          R     mAP@.5 mAP@.5:.95: 100% 23/23 [00:01<00:00, 18.34it/s]\n",
            "                 all         90        117      0.807      0.714      0.763      0.327\n",
            "\n",
            "     Epoch   gpu_mem       box       obj       cls    labels  img_size\n",
            "     27/49     0.77G   0.03704   0.01615         0         6       640: 100% 206/206 [00:21<00:00,  9.71it/s]\n",
            "               Class     Images     Labels          P          R     mAP@.5 mAP@.5:.95: 100% 23/23 [00:01<00:00, 18.12it/s]\n",
            "                 all         90        117       0.74      0.786      0.735      0.298\n",
            "\n",
            "     Epoch   gpu_mem       box       obj       cls    labels  img_size\n",
            "     28/49     0.77G   0.03638   0.01626         0         6       640: 100% 206/206 [00:21<00:00,  9.80it/s]\n",
            "               Class     Images     Labels          P          R     mAP@.5 mAP@.5:.95: 100% 23/23 [00:01<00:00, 18.31it/s]\n",
            "                 all         90        117      0.851      0.733      0.761      0.296\n",
            "\n",
            "     Epoch   gpu_mem       box       obj       cls    labels  img_size\n",
            "     29/49     0.77G   0.03767   0.01586         0         5       640: 100% 206/206 [00:21<00:00,  9.78it/s]\n",
            "               Class     Images     Labels          P          R     mAP@.5 mAP@.5:.95: 100% 23/23 [00:01<00:00, 18.23it/s]\n",
            "                 all         90        117      0.771      0.701      0.701      0.287\n",
            "\n",
            "     Epoch   gpu_mem       box       obj       cls    labels  img_size\n",
            "     30/49     0.77G   0.03899   0.01763         0        10       640: 100% 206/206 [00:21<00:00,  9.68it/s]\n",
            "               Class     Images     Labels          P          R     mAP@.5 mAP@.5:.95: 100% 23/23 [00:01<00:00, 18.08it/s]\n",
            "                 all         90        117      0.773      0.735      0.716       0.32\n",
            "\n",
            "     Epoch   gpu_mem       box       obj       cls    labels  img_size\n",
            "     31/49     0.77G   0.03556   0.01537         0         8       640: 100% 206/206 [00:21<00:00,  9.70it/s]\n",
            "               Class     Images     Labels          P          R     mAP@.5 mAP@.5:.95: 100% 23/23 [00:01<00:00, 18.32it/s]\n",
            "                 all         90        117      0.734      0.803      0.749      0.331\n",
            "\n",
            "     Epoch   gpu_mem       box       obj       cls    labels  img_size\n",
            "     32/49     0.77G   0.03485   0.01501         0         4       640: 100% 206/206 [00:21<00:00,  9.68it/s]\n",
            "               Class     Images     Labels          P          R     mAP@.5 mAP@.5:.95: 100% 23/23 [00:01<00:00, 18.51it/s]\n",
            "                 all         90        117       0.82      0.777      0.769       0.32\n",
            "\n",
            "     Epoch   gpu_mem       box       obj       cls    labels  img_size\n",
            "     33/49     0.77G   0.03478   0.01678         0         5       640: 100% 206/206 [00:21<00:00,  9.66it/s]\n",
            "               Class     Images     Labels          P          R     mAP@.5 mAP@.5:.95: 100% 23/23 [00:01<00:00, 18.13it/s]\n",
            "                 all         90        117      0.792      0.692      0.688       0.27\n",
            "\n",
            "     Epoch   gpu_mem       box       obj       cls    labels  img_size\n",
            "     34/49     0.77G   0.03571   0.01619         0         3       640: 100% 206/206 [00:21<00:00,  9.64it/s]\n",
            "               Class     Images     Labels          P          R     mAP@.5 mAP@.5:.95: 100% 23/23 [00:01<00:00, 17.90it/s]\n",
            "                 all         90        117      0.774      0.778      0.746      0.316\n",
            "\n",
            "     Epoch   gpu_mem       box       obj       cls    labels  img_size\n",
            "     35/49     0.77G   0.03521   0.01506         0         5       640: 100% 206/206 [00:21<00:00,  9.54it/s]\n",
            "               Class     Images     Labels          P          R     mAP@.5 mAP@.5:.95: 100% 23/23 [00:01<00:00, 16.81it/s]\n",
            "                 all         90        117      0.768      0.752      0.701      0.291\n",
            "\n",
            "     Epoch   gpu_mem       box       obj       cls    labels  img_size\n",
            "     36/49     0.77G   0.03362    0.0149         0         4       640: 100% 206/206 [00:21<00:00,  9.56it/s]\n",
            "               Class     Images     Labels          P          R     mAP@.5 mAP@.5:.95: 100% 23/23 [00:01<00:00, 17.30it/s]\n",
            "                 all         90        117      0.785      0.751      0.757      0.311\n",
            "\n",
            "     Epoch   gpu_mem       box       obj       cls    labels  img_size\n",
            "     37/49     0.77G    0.0347    0.0152         0         7       640: 100% 206/206 [00:21<00:00,  9.48it/s]\n",
            "               Class     Images     Labels          P          R     mAP@.5 mAP@.5:.95: 100% 23/23 [00:01<00:00, 17.38it/s]\n",
            "                 all         90        117      0.831      0.716      0.723      0.291\n",
            "\n",
            "     Epoch   gpu_mem       box       obj       cls    labels  img_size\n",
            "     38/49     0.77G   0.03408   0.01564         0         3       640: 100% 206/206 [00:21<00:00,  9.56it/s]\n",
            "               Class     Images     Labels          P          R     mAP@.5 mAP@.5:.95: 100% 23/23 [00:01<00:00, 17.64it/s]\n",
            "                 all         90        117      0.798       0.71      0.751      0.309\n",
            "\n",
            "     Epoch   gpu_mem       box       obj       cls    labels  img_size\n",
            "     39/49     0.77G   0.03329   0.01508         0         3       640: 100% 206/206 [00:21<00:00,  9.60it/s]\n",
            "               Class     Images     Labels          P          R     mAP@.5 mAP@.5:.95: 100% 23/23 [00:01<00:00, 17.93it/s]\n",
            "                 all         90        117      0.791      0.761      0.764      0.334\n",
            "\n",
            "     Epoch   gpu_mem       box       obj       cls    labels  img_size\n",
            "     40/49     0.77G   0.03278   0.01435         0         6       640: 100% 206/206 [00:21<00:00,  9.41it/s]\n",
            "               Class     Images     Labels          P          R     mAP@.5 mAP@.5:.95: 100% 23/23 [00:01<00:00, 17.79it/s]\n",
            "                 all         90        117      0.821      0.803      0.777      0.328\n",
            "\n",
            "     Epoch   gpu_mem       box       obj       cls    labels  img_size\n",
            "     41/49     0.77G   0.03205   0.01513         0         3       640: 100% 206/206 [00:21<00:00,  9.59it/s]\n",
            "               Class     Images     Labels          P          R     mAP@.5 mAP@.5:.95: 100% 23/23 [00:01<00:00, 17.40it/s]\n",
            "                 all         90        117      0.825      0.806      0.781      0.324\n",
            "\n",
            "     Epoch   gpu_mem       box       obj       cls    labels  img_size\n",
            "     42/49     0.77G   0.03362   0.01552         0         8       640: 100% 206/206 [00:21<00:00,  9.50it/s]\n",
            "               Class     Images     Labels          P          R     mAP@.5 mAP@.5:.95: 100% 23/23 [00:01<00:00, 17.85it/s]\n",
            "                 all         90        117      0.773      0.795      0.749      0.313\n",
            "\n",
            "     Epoch   gpu_mem       box       obj       cls    labels  img_size\n",
            "     43/49     0.77G   0.03114    0.0147         0         7       640: 100% 206/206 [00:21<00:00,  9.48it/s]\n",
            "               Class     Images     Labels          P          R     mAP@.5 mAP@.5:.95: 100% 23/23 [00:01<00:00, 17.60it/s]\n",
            "                 all         90        117      0.787      0.789      0.738      0.322\n",
            "\n",
            "     Epoch   gpu_mem       box       obj       cls    labels  img_size\n",
            "     44/49     0.77G    0.0325   0.01454         0         5       640: 100% 206/206 [00:22<00:00,  9.17it/s]\n",
            "               Class     Images     Labels          P          R     mAP@.5 mAP@.5:.95: 100% 23/23 [00:01<00:00, 17.70it/s]\n",
            "                 all         90        117      0.805       0.81      0.749      0.318\n",
            "\n",
            "     Epoch   gpu_mem       box       obj       cls    labels  img_size\n",
            "     45/49     0.77G   0.03243   0.01478         0         4       640: 100% 206/206 [00:21<00:00,  9.52it/s]\n",
            "               Class     Images     Labels          P          R     mAP@.5 mAP@.5:.95: 100% 23/23 [00:01<00:00, 17.88it/s]\n",
            "                 all         90        117      0.796      0.802       0.76      0.333\n",
            "\n",
            "     Epoch   gpu_mem       box       obj       cls    labels  img_size\n",
            "     46/49     0.77G   0.03205   0.01505         0        10       640: 100% 206/206 [00:21<00:00,  9.57it/s]\n",
            "               Class     Images     Labels          P          R     mAP@.5 mAP@.5:.95: 100% 23/23 [00:01<00:00, 18.00it/s]\n",
            "                 all         90        117      0.797       0.77      0.753      0.331\n",
            "\n",
            "     Epoch   gpu_mem       box       obj       cls    labels  img_size\n",
            "     47/49     0.77G   0.03381   0.01472         0         5       640: 100% 206/206 [00:21<00:00,  9.40it/s]\n",
            "               Class     Images     Labels          P          R     mAP@.5 mAP@.5:.95: 100% 23/23 [00:01<00:00, 15.69it/s]\n",
            "                 all         90        117      0.792      0.769      0.732      0.316\n",
            "\n",
            "     Epoch   gpu_mem       box       obj       cls    labels  img_size\n",
            "     48/49     0.77G   0.03109   0.01319         0         5       640: 100% 206/206 [00:21<00:00,  9.41it/s]\n",
            "               Class     Images     Labels          P          R     mAP@.5 mAP@.5:.95: 100% 23/23 [00:01<00:00, 16.36it/s]\n",
            "                 all         90        117      0.794      0.786      0.747      0.324\n",
            "\n",
            "     Epoch   gpu_mem       box       obj       cls    labels  img_size\n",
            "     49/49     0.77G   0.03135   0.01503         0         2       640: 100% 206/206 [00:22<00:00,  9.31it/s]\n",
            "               Class     Images     Labels          P          R     mAP@.5 mAP@.5:.95: 100% 23/23 [00:01<00:00, 18.00it/s]\n",
            "                 all         90        117        0.8      0.795      0.762      0.337\n",
            "\n",
            "50 epochs completed in 0.323 hours.\n",
            "Optimizer stripped from runs/train/exp7/weights/last.pt, 14.4MB\n",
            "Optimizer stripped from runs/train/exp7/weights/best.pt, 14.4MB\n",
            "\n",
            "Validating runs/train/exp7/weights/best.pt...\n",
            "Fusing layers... \n",
            "Model summary: 213 layers, 7012822 parameters, 0 gradients, 15.8 GFLOPs\n",
            "               Class     Images     Labels          P          R     mAP@.5 mAP@.5:.95: 100% 23/23 [00:01<00:00, 14.21it/s]\n",
            "                 all         90        117      0.802      0.796      0.762      0.335\n",
            "Results saved to \u001b[1mruns/train/exp7\u001b[0m\n"
          ]
        }
      ]
    },
    {
      "cell_type": "markdown",
      "metadata": {
        "id": "15glLzbQx5u0"
      },
      "source": [
        "# 4. Visualize"
      ]
    },
    {
      "cell_type": "markdown",
      "metadata": {
        "id": "DLI1JmHU7B0l"
      },
      "source": [
        "## Weights & Biases Logging 🌟 NEW\n",
        "\n",
        "[Weights & Biases](https://wandb.ai/site?utm_campaign=repo_yolo_notebook) (W&B) is now integrated with YOLOv5 for real-time visualization and cloud logging of training runs. This allows for better run comparison and introspection, as well improved visibility and collaboration for teams. To enable W&B `pip install wandb`, and then train normally (you will be guided through setup on first use). \n",
        "\n",
        "During training you will see live updates at [https://wandb.ai/home](https://wandb.ai/home?utm_campaign=repo_yolo_notebook), and you can create and share detailed [Reports](https://wandb.ai/glenn-jocher/yolov5_tutorial/reports/YOLOv5-COCO128-Tutorial-Results--VmlldzozMDI5OTY) of your results. For more information see the [YOLOv5 Weights & Biases Tutorial](https://github.com/ultralytics/yolov5/issues/1289). \n",
        "\n",
        "<p align=\"left\"><img width=\"900\" alt=\"Weights & Biases dashboard\" src=\"https://user-images.githubusercontent.com/26833433/135390767-c28b050f-8455-4004-adb0-3b730386e2b2.png\"></p>"
      ]
    },
    {
      "cell_type": "markdown",
      "metadata": {
        "id": "-WPvRbS5Swl6"
      },
      "source": [
        "## Local Logging\n",
        "\n",
        "All results are logged by default to `runs/train`, with a new experiment directory created for each new training as `runs/train/exp2`, `runs/train/exp3`, etc. View train and val jpgs to see mosaics, labels, predictions and augmentation effects. Note an Ultralytics **Mosaic Dataloader** is used for training (shown below), which combines 4 images into 1 mosaic during training.\n",
        "\n",
        "> <img src=\"https://user-images.githubusercontent.com/26833433/131255960-b536647f-7c61-4f60-bbc5-cb2544d71b2a.jpg\" width=\"700\">  \n",
        "`train_batch0.jpg` shows train batch 0 mosaics and labels\n",
        "\n",
        "> <img src=\"https://user-images.githubusercontent.com/26833433/131256748-603cafc7-55d1-4e58-ab26-83657761aed9.jpg\" width=\"700\">  \n",
        "`test_batch0_labels.jpg` shows val batch 0 labels\n",
        "\n",
        "> <img src=\"https://user-images.githubusercontent.com/26833433/131256752-3f25d7a5-7b0f-4bb3-ab78-46343c3800fe.jpg\" width=\"700\">  \n",
        "`test_batch0_pred.jpg` shows val batch 0 _predictions_\n",
        "\n",
        "Training results are automatically logged to [Tensorboard](https://www.tensorflow.org/tensorboard) and [CSV](https://github.com/ultralytics/yolov5/pull/4148) as `results.csv`, which is plotted as `results.png` (below) after training completes. You can also plot any `results.csv` file manually:\n",
        "\n",
        "```python\n",
        "from utils.plots import plot_results \n",
        "plot_results('path/to/results.csv')  # plot 'results.csv' as 'results.png'\n",
        "```\n",
        "\n",
        "<img align=\"left\" width=\"800\" alt=\"COCO128 Training Results\" src=\"https://user-images.githubusercontent.com/26833433/126906780-8c5e2990-6116-4de6-b78a-367244a33ccf.png\">"
      ]
    },
    {
      "cell_type": "markdown",
      "metadata": {
        "id": "Zelyeqbyt3GD"
      },
      "source": [
        "# Environments\n",
        "\n",
        "YOLOv5 may be run in any of the following up-to-date verified environments (with all dependencies including [CUDA](https://developer.nvidia.com/cuda)/[CUDNN](https://developer.nvidia.com/cudnn), [Python](https://www.python.org/) and [PyTorch](https://pytorch.org/) preinstalled):\n",
        "\n",
        "- **Google Colab and Kaggle** notebooks with free GPU: <a href=\"https://colab.research.google.com/github/ultralytics/yolov5/blob/master/tutorial.ipynb\"><img src=\"https://colab.research.google.com/assets/colab-badge.svg\" alt=\"Open In Colab\"></a> <a href=\"https://www.kaggle.com/ultralytics/yolov5\"><img src=\"https://kaggle.com/static/images/open-in-kaggle.svg\" alt=\"Open In Kaggle\"></a>\n",
        "- **Google Cloud** Deep Learning VM. See [GCP Quickstart Guide](https://github.com/ultralytics/yolov5/wiki/GCP-Quickstart)\n",
        "- **Amazon** Deep Learning AMI. See [AWS Quickstart Guide](https://github.com/ultralytics/yolov5/wiki/AWS-Quickstart)\n",
        "- **Docker Image**. See [Docker Quickstart Guide](https://github.com/ultralytics/yolov5/wiki/Docker-Quickstart) <a href=\"https://hub.docker.com/r/ultralytics/yolov5\"><img src=\"https://img.shields.io/docker/pulls/ultralytics/yolov5?logo=docker\" alt=\"Docker Pulls\"></a>\n"
      ]
    },
    {
      "cell_type": "markdown",
      "metadata": {
        "id": "6Qu7Iesl0p54"
      },
      "source": [
        "# Status\n",
        "\n",
        "![CI CPU testing](https://github.com/ultralytics/yolov5/workflows/CI%20CPU%20testing/badge.svg)\n",
        "\n",
        "If this badge is green, all [YOLOv5 GitHub Actions](https://github.com/ultralytics/yolov5/actions) Continuous Integration (CI) tests are currently passing. CI tests verify correct operation of YOLOv5 training ([train.py](https://github.com/ultralytics/yolov5/blob/master/train.py)), testing ([val.py](https://github.com/ultralytics/yolov5/blob/master/val.py)), inference ([detect.py](https://github.com/ultralytics/yolov5/blob/master/detect.py)) and export ([export.py](https://github.com/ultralytics/yolov5/blob/master/export.py)) on macOS, Windows, and Ubuntu every 24 hours and on every commit.\n"
      ]
    },
    {
      "cell_type": "markdown",
      "metadata": {
        "id": "IEijrePND_2I"
      },
      "source": [
        "# Appendix\n",
        "\n",
        "Optional extras below. Unit tests validate repo functionality and should be run on any PRs submitted.\n"
      ]
    },
    {
      "cell_type": "code",
      "metadata": {
        "id": "mcKoSIK2WSzj"
      },
      "source": [
        "# Reproduce\n",
        "for x in 'yolov5n', 'yolov5s', 'yolov5m', 'yolov5l', 'yolov5x':\n",
        "  !python val.py --weights {x}.pt --data coco.yaml --img 640 --task speed  # speed\n",
        "  !python val.py --weights {x}.pt --data coco.yaml --img 640 --conf 0.001 --iou 0.65  # mAP"
      ],
      "execution_count": null,
      "outputs": []
    },
    {
      "cell_type": "code",
      "metadata": {
        "id": "GMusP4OAxFu6"
      },
      "source": [
        "# PyTorch Hub\n",
        "import torch\n",
        "\n",
        "# Model\n",
        "model = torch.hub.load('ultralytics/yolov5', 'yolov5s')\n",
        "\n",
        "# Images\n",
        "dir = 'https://ultralytics.com/images/'\n",
        "imgs = [dir + f for f in ('zidane.jpg', 'bus.jpg')]  # batch of images\n",
        "\n",
        "# Inference\n",
        "results = model(imgs)\n",
        "results.print()  # or .show(), .save()"
      ],
      "execution_count": null,
      "outputs": []
    },
    {
      "cell_type": "code",
      "metadata": {
        "id": "FGH0ZjkGjejy"
      },
      "source": [
        "# CI Checks\n",
        "%%shell\n",
        "export PYTHONPATH=\"$PWD\"  # to run *.py. files in subdirectories\n",
        "rm -rf runs  # remove runs/\n",
        "for m in yolov5n; do  # models\n",
        "  python train.py --img 64 --batch 32 --weights $m.pt --epochs 1 --device 0  # train pretrained\n",
        "  python train.py --img 64 --batch 32 --weights '' --cfg $m.yaml --epochs 1 --device 0  # train scratch\n",
        "  for d in 0 cpu; do  # devices\n",
        "    python val.py --weights $m.pt --device $d # val official\n",
        "    python val.py --weights runs/train/exp/weights/best.pt --device $d # val custom\n",
        "    python detect.py --weights $m.pt --device $d  # detect official\n",
        "    python detect.py --weights runs/train/exp/weights/best.pt --device $d  # detect custom\n",
        "  done\n",
        "  python hubconf.py  # hub\n",
        "  python models/yolo.py --cfg $m.yaml  # build PyTorch model\n",
        "  python models/tf.py --weights $m.pt  # build TensorFlow model\n",
        "  python export.py --img 64 --batch 1 --weights $m.pt --include torchscript onnx  # export\n",
        "done"
      ],
      "execution_count": null,
      "outputs": []
    },
    {
      "cell_type": "code",
      "metadata": {
        "id": "gogI-kwi3Tye"
      },
      "source": [
        "# Profile\n",
        "from utils.torch_utils import profile\n",
        "\n",
        "m1 = lambda x: x * torch.sigmoid(x)\n",
        "m2 = torch.nn.SiLU()\n",
        "results = profile(input=torch.randn(16, 3, 640, 640), ops=[m1, m2], n=100)"
      ],
      "execution_count": null,
      "outputs": []
    },
    {
      "cell_type": "code",
      "metadata": {
        "id": "RVRSOhEvUdb5"
      },
      "source": [
        "# Evolve\n",
        "!python train.py --img 640 --batch 64 --epochs 100 --data coco128.yaml --weights yolov5s.pt --cache --noautoanchor --evolve\n",
        "!d=runs/train/evolve && cp evolve.* $d && zip -r evolve.zip $d && gsutil mv evolve.zip gs://bucket  # upload results (optional)"
      ],
      "execution_count": null,
      "outputs": []
    },
    {
      "cell_type": "code",
      "metadata": {
        "id": "BSgFCAcMbk1R"
      },
      "source": [
        "# VOC\n",
        "for b, m in zip([64, 64, 64, 32, 16], ['yolov5n', 'yolov5s', 'yolov5m', 'yolov5l', 'yolov5x']):  # batch, model\n",
        "  !python train.py --batch {b} --weights {m}.pt --data VOC.yaml --epochs 50 --img 512 --hyp hyp.VOC.yaml --project VOC --name {m} --cache"
      ],
      "execution_count": null,
      "outputs": []
    },
    {
      "cell_type": "code",
      "metadata": {
        "id": "VTRwsvA9u7ln"
      },
      "source": [
        "# TensorRT \n",
        "# https://docs.nvidia.com/deeplearning/tensorrt/install-guide/index.html#installing-pip\n",
        "!pip install -U nvidia-tensorrt --index-url https://pypi.ngc.nvidia.com  # install\n",
        "!python export.py --weights yolov5s.pt --include engine --imgsz 640 640 --device 0  # export\n",
        "!python detect.py --weights yolov5s.engine --imgsz 640 640 --device 0  # inference"
      ],
      "execution_count": null,
      "outputs": []
    }
  ]
}